{
 "cells": [
  {
   "cell_type": "markdown",
   "metadata": {},
   "source": [
    "# Imports"
   ]
  },
  {
   "cell_type": "code",
   "execution_count": 1,
   "metadata": {},
   "outputs": [],
   "source": [
    "import json\n",
    "import pprint\n",
    "\n",
    "from algosdk.v2client import algod\n",
    "\n",
    "from setup.create_app import create_app\n",
    "from setup.opt_in_app import opt_in_app\n",
    "from setup.call_app import call_app\n",
    "from setup.delete_app import delete_app\n",
    "from setup.update_app import update_app\n",
    "from setup.close_out import close_out_app\n",
    "from setup.clear_app import clear_app\n",
    "\n",
    "from setup.helper_functions import *\n",
    "\n",
    "from setup.pool_functions.opt_into_asset import opt_into_asset\n",
    "from setup.pool_functions.rekey_to_application import rekey_pool_to_application\n",
    "from setup.pool_functions.create_asset import create_asset\n",
    "from setup.pool_functions.destroy_asset import destroy_asset\n",
    "\n",
    "from setup.account_generation.create_account import generate_new_application_accounts\n",
    "\n",
    "from setup.application_calls.add_pool import add_pool"
   ]
  },
  {
   "cell_type": "markdown",
   "metadata": {},
   "source": [
    "# Initializing Algod Client"
   ]
  },
  {
   "cell_type": "code",
   "execution_count": 2,
   "metadata": {},
   "outputs": [],
   "source": [
    "# user declared algod connection parameters. Node must have EnableDeveloperAPI set to true in its config\n",
    "algod_address = \"http://localhost:4001\"\n",
    "algod_token = \"aaaaaaaaaaaaaaaaaaaaaaaaaaaaaaaaaaaaaaaaaaaaaaaaaaaaaaaaaaaaaaaa\"\n",
    "\n",
    "# initialize an algodClient\n",
    "algod_client = algod.AlgodClient(algod_token, algod_address)"
   ]
  },
  {
   "cell_type": "markdown",
   "metadata": {},
   "source": [
    "# Obtaining data from keys.json"
   ]
  },
  {
   "cell_type": "code",
   "execution_count": 3,
   "metadata": {},
   "outputs": [],
   "source": [
    "# open json file with address and mnemonic data\n",
    "f = open('keys.json')\n",
    "data = json.load(f)\n",
    "\n",
    "\n",
    "\n",
    "# Creator account. (KYC account)\n",
    "# This account is a multisig (1/2). \n",
    "# For developement purposes, both private keys are stored in keys.json\n",
    "# This will change in a production environment for security purposes. \n",
    "creator_mnemonic_1 = data['creator_multisig_accounts']['creator_mnemonic_1']\n",
    "creator_private_key_1 = get_private_key_from_mnemonic(creator_mnemonic_1)\n",
    "creator_address = data['creator_multisig_address']\n",
    "\n",
    "# Closing json file\n",
    "f.close()"
   ]
  },
  {
   "cell_type": "markdown",
   "metadata": {},
   "source": [
    "# Creating Application"
   ]
  },
  {
   "cell_type": "code",
   "execution_count": 4,
   "metadata": {},
   "outputs": [
    {
     "data": {
      "text/plain": [
       "'\\napp_id, application_address = create_app(algod_client, creator_address, creator_private_key_1)\\n\\ngenerate_new_application_accounts()\\n\\nprint(\"Created new app-id:\", app_id)\\nprint(\"Application address:\", application_address)\\n\\n# read global state of application\\nprint( \"Global state:\", read_global_state(algod_client, creator_address, app_id) )\\n\\n# read local state of application from user account\\nprint( \"Local state:\", read_local_state(algod_client, creator_address, app_id) )\\n'"
      ]
     },
     "execution_count": 4,
     "metadata": {},
     "output_type": "execute_result"
    }
   ],
   "source": [
    "'''\n",
    "app_id, application_address = create_app(algod_client, creator_address, creator_private_key_1)\n",
    "\n",
    "generate_new_application_accounts()\n",
    "\n",
    "print(\"Created new app-id:\", app_id)\n",
    "print(\"Application address:\", application_address)\n",
    "\n",
    "# read global state of application\n",
    "print( \"Global state:\", read_global_state(algod_client, creator_address, app_id) )\n",
    "\n",
    "# read local state of application from user account\n",
    "print( \"Local state:\", read_local_state(algod_client, creator_address, app_id) )\n",
    "'''\n"
   ]
  },
  {
   "cell_type": "code",
   "execution_count": 5,
   "metadata": {},
   "outputs": [],
   "source": [
    "# open json file with address and mnemonic data\n",
    "f = open('keys.json')\n",
    "data = json.load(f)\n",
    "\n",
    "\n",
    "# Lender USDC Deposit Pool.\n",
    "# This account is single sig Algorand account.\n",
    "# The private key and address is stored in keys.json for development purposes\n",
    "# This account will be rekeyed to the smart contract\n",
    "lender_usdc_pool_mnemonic = data['lender_usdc_pool_mnemonic']\n",
    "lender_usdc_pool_private_key = get_private_key_from_mnemonic(lender_usdc_pool_mnemonic)\n",
    "lender_usdc_pool_address = data['lender_usdc_pool_address']\n",
    "\n",
    "\n",
    "\n",
    "# Index Token Reserve Pool.\n",
    "# This account is single sig Algorand account.\n",
    "# The private key and address is stored in keys.json for development purposes\n",
    "# This account will be rekeyed to the smart contract\n",
    "token_reserve_pool_mnemonic = data['token_reserve_pool_mnemonic']\n",
    "token_reserve_pool_private_key = get_private_key_from_mnemonic(token_reserve_pool_mnemonic)\n",
    "token_reserve_pool_address = data['token_reserve_pool_address']\n",
    "\n",
    "\n",
    "\n",
    "# Index Token Active Pool.\n",
    "# This account is single sig Algorand account.\n",
    "# The private key and address is stored in keys.json for development purposes\n",
    "# This account will be rekeyed to the smart contract\n",
    "token_active_pool_mnemonic = data['token_active_pool_mnemonic']\n",
    "token_active_pool_private_key = get_private_key_from_mnemonic(token_active_pool_mnemonic)\n",
    "token_active_pool_address = data['token_active_pool_address']\n",
    "\n",
    "\n",
    "\n",
    "# Index Token Stake Pool.\n",
    "# This account is single sig Algorand account.\n",
    "# The private key and address is stored in keys.json for development purposes\n",
    "# This account will be rekeyed to the smart contract\n",
    "token_stake_pool_mnemonic = data['token_stake_pool_mnemonic']\n",
    "token_stake_pool_private_key = get_private_key_from_mnemonic(token_stake_pool_mnemonic)\n",
    "token_stake_pool_address = data['token_stake_pool_address']\n",
    "\n",
    "\n",
    "\n",
    "# Payback Pool.\n",
    "# This account is single sig Algorand account.\n",
    "# The private key and address is stored in keys.json for development purposes\n",
    "# This account will be rekeyed to the smart contract\n",
    "payback_pool_mnemonic = data['payback_pool_mnemonic']\n",
    "payback_pool_private_key = get_private_key_from_mnemonic(payback_pool_mnemonic)\n",
    "payback_pool_address = data['payback_pool_address']\n",
    "\n",
    "\n",
    "\n",
    "# Test user account. (single sig)\n",
    "# In this case it is a singlesig, but it could also be a multisig if the user wants to make it one. \n",
    "# For developement purposes, this private key is stored in keys.json\n",
    "test_user_mnemonic = data['test_user_mnemonic']\n",
    "test_user_private_key = get_private_key_from_mnemonic(test_user_mnemonic)\n",
    "test_user_address = data['test_user_address']\n",
    "\n",
    "\n",
    "# Test user (multisig account)\n",
    "# In this case it is a singlesig, but it could also be a multisig if the user wants to make it one. \n",
    "# For developement purposes, this private key is stored in keys.json\n",
    "test_multisig_mnemonic_1 = data['test_multisig_accounts']['creator_mnemonic_1']\n",
    "test_multisig_private_key_1 = get_private_key_from_mnemonic(test_multisig_mnemonic_1)\n",
    "test_multisig_address = data['test_multisig_address']\n",
    "\n",
    "\n",
    "\n",
    "# USDC ID\n",
    "usdc_id = data['usdc_id']\n",
    "\n",
    "\n",
    "# Application ID\n",
    "app_id = data['app_id']\n",
    "\n",
    "# Index Token ID (LCASA)\n",
    "index_token_id = data['index_token_id']\n",
    "\n",
    "# Application Address\n",
    "application_address = data['app_address']\n",
    "\n",
    "# Closing json file\n",
    "f.close()\n"
   ]
  },
  {
   "cell_type": "markdown",
   "metadata": {},
   "source": [
    "# Update Application"
   ]
  },
  {
   "cell_type": "code",
   "execution_count": 6,
   "metadata": {},
   "outputs": [
    {
     "name": "stdout",
     "output_type": "stream",
     "text": [
      "Waiting for confirmation...\n",
      "Transaction OC7UDEMPDQZX3TLFYLQPAZZMKWRHEHA24NLTLLYVXR24NWTDUQZQ confirmed in round 18923178.\n",
      "Application was modified with app_id: 56368029 and with application address: M4BGR5QUA7KQSFN3HGS5A6Q6CBYJM5QAUGU5UCVWDQNYZ2RQYPZ6GXKENI\n",
      "Global state:\n",
      "{'kyc_account': 'XRH2VHWTWNOXNYJ3WMBE467KJXYS3E4GVKCYSVD2UM4KIIWXFHJPB6SDAM',\n",
      " 'lender_usdc_pool': 'NPQHUMZIMDASRNTDXTHL6M44DQM7N3U4SNHOJMQ4M2L7AO4MVJ3ZKMFZIA'}\n",
      "Local state:\n",
      "{}\n"
     ]
    }
   ],
   "source": [
    "update_app(algod_client, creator_address, creator_private_key_1, app_id)\n",
    "\n",
    "\n",
    "# read global state of application\n",
    "print( \"Global state:\" )\n",
    "global_state = read_global_state(algod_client, creator_address, app_id)\n",
    "pprint.pprint(global_state)\n",
    "\n",
    "# read local state of application from user account\n",
    "print( \"Local state:\" )\n",
    "local_state = read_local_state(algod_client, creator_address, app_id)\n",
    "pprint.pprint(local_state)\n"
   ]
  },
  {
   "cell_type": "markdown",
   "metadata": {},
   "source": [
    "# Opt manager into smart contract"
   ]
  },
  {
   "cell_type": "code",
   "execution_count": 7,
   "metadata": {},
   "outputs": [
    {
     "data": {
      "text/plain": [
       "'\\n# if pool account is not opted into the app, opt into it\\nif not is_opted_in_app(algod_client, creator_address, app_id):\\n\\n    # opt into application from pool account\\n    result = opt_in_app(algod_client, creator_private_key_1, app_id)\\n\\n    # print result confirmation transaction confirmation \\n    print_confirmation(result)\\n'"
      ]
     },
     "execution_count": 7,
     "metadata": {},
     "output_type": "execute_result"
    }
   ],
   "source": [
    "'''\n",
    "# if pool account is not opted into the app, opt into it\n",
    "if not is_opted_in_app(algod_client, creator_address, app_id):\n",
    "\n",
    "    # opt into application from pool account\n",
    "    result = opt_in_app(algod_client, creator_private_key_1, app_id)\n",
    "\n",
    "    # print result confirmation transaction confirmation \n",
    "    print_confirmation(result)\n",
    "'''"
   ]
  },
  {
   "cell_type": "markdown",
   "metadata": {},
   "source": [
    "##### --------------------------------------------------------------------------------------------\n",
    "# **lender_usdc_pool**: 3 actions\n",
    "\n",
    "##### 1) ----------> Opt pool into smart contract \n",
    "##### 2) ----------> Opt pool into USDC \n",
    "##### 3) ----------> Rekey pool to smart contract\n",
    "\n",
    "##### --------------------------------------------------------------------------------------------\n"
   ]
  },
  {
   "cell_type": "markdown",
   "metadata": {},
   "source": [
    "##### Action 1: Opt Lender USDC Pool into Smart Contract"
   ]
  },
  {
   "cell_type": "code",
   "execution_count": 8,
   "metadata": {},
   "outputs": [],
   "source": [
    "# if pool account is not opted into the app, opt into it\n",
    "if not is_opted_in_app(algod_client, lender_usdc_pool_address, app_id):\n",
    "\n",
    "    # opt into application from pool account\n",
    "    result = opt_in_app(algod_client, lender_usdc_pool_private_key, app_id)\n",
    "\n",
    "    # print result confirmation transaction confirmation \n",
    "    print_confirmation(result)\n",
    "    "
   ]
  },
  {
   "cell_type": "markdown",
   "metadata": {},
   "source": [
    "##### Action 2: Opt Lender USDC Pool into USDC"
   ]
  },
  {
   "cell_type": "code",
   "execution_count": 9,
   "metadata": {},
   "outputs": [
    {
     "name": "stdout",
     "output_type": "stream",
     "text": [
      "Asset ID: 10458941\n",
      "{\n",
      "    \"amount\": 0,\n",
      "    \"asset-id\": 10458941,\n",
      "    \"creator\": \"VETIGP3I6RCUVLVYNDW5UA2OJMXB5WP6L6HJ3RWO2R37GP4AVETICXC55I\",\n",
      "    \"is-frozen\": false\n",
      "}\n"
     ]
    }
   ],
   "source": [
    "# if pool is not opted into the asset, opt into it\n",
    "if not is_opted_in_asset(algod_client, usdc_id, lender_usdc_pool_address):\n",
    "\n",
    "    print(\"Account is not opted in to USDC.. opting in now...\")\n",
    "\n",
    "    # opt into USDC from pool account\n",
    "    result = opt_into_asset(algod_client, lender_usdc_pool_address, lender_usdc_pool_private_key, usdc_id)\n",
    "\n",
    "    # print result confirmation transaction confirmation \n",
    "    print_confirmation(result)\n",
    "\n",
    "# print pool asset holdings\n",
    "print_asset_holding(algod_client, lender_usdc_pool_address, usdc_id)\n"
   ]
  },
  {
   "cell_type": "markdown",
   "metadata": {},
   "source": [
    "##### Action 3: Rekey Lender USDC Pool to Smart Contract"
   ]
  },
  {
   "cell_type": "code",
   "execution_count": 10,
   "metadata": {},
   "outputs": [],
   "source": [
    "if not is_application_address(algod_client, application_address, lender_usdc_pool_address): \n",
    "    \n",
    "    result = rekey_pool_to_application(algod_client, application_address, lender_usdc_pool_address, lender_usdc_pool_private_key)\n",
    "\n",
    "    # print result confirmation transaction confirmation \n",
    "    print_confirmation(result)\n"
   ]
  },
  {
   "cell_type": "markdown",
   "metadata": {},
   "source": [
    "##### --------------------------------------------------------------------------------------------\n",
    "# **token_reserve_pool**: 3 actions\n",
    "\n",
    "##### 1) ----------> Opt pool into smart contract \n",
    "##### 2) ----------> Create index_token (infinite amount)\n",
    "##### 3) ----------> Rekey pool to smart contract\n",
    "\n",
    "##### --------------------------------------------------------------------------------------------"
   ]
  },
  {
   "cell_type": "markdown",
   "metadata": {},
   "source": [
    "##### Action 1: Opt reserve pool into Smart Contract"
   ]
  },
  {
   "cell_type": "code",
   "execution_count": 11,
   "metadata": {},
   "outputs": [],
   "source": [
    "# if pool account is not opted into the app, opt into it\n",
    "if not is_opted_in_app(algod_client, token_reserve_pool_address, app_id):\n",
    "\n",
    "    # opt into application from pool account\n",
    "    result = opt_in_app(algod_client, token_reserve_pool_private_key, app_id)\n",
    "\n",
    "    # print result confirmation transaction confirmation \n",
    "    print_confirmation(result)\n",
    "\n"
   ]
  },
  {
   "cell_type": "markdown",
   "metadata": {},
   "source": [
    "##### Action 2: Create index token and store in reserve address"
   ]
  },
  {
   "cell_type": "code",
   "execution_count": 12,
   "metadata": {},
   "outputs": [],
   "source": [
    "if not is_opted_in_asset(algod_client, index_token_id, token_reserve_pool_address):\n",
    "\n",
    "    create_asset(algod_client, creator_address, token_reserve_pool_address, token_reserve_pool_private_key)"
   ]
  },
  {
   "cell_type": "markdown",
   "metadata": {},
   "source": [
    "##### Reading created token id from keys.json"
   ]
  },
  {
   "cell_type": "code",
   "execution_count": 13,
   "metadata": {},
   "outputs": [],
   "source": [
    "# open json file with address and mnemonic data\n",
    "f = open('keys.json')\n",
    "data = json.load(f)\n",
    "\n",
    "# Index Token ID (LCASA)\n",
    "index_token_id = data['index_token_id']\n",
    "\n",
    "f.close()"
   ]
  },
  {
   "cell_type": "markdown",
   "metadata": {},
   "source": [
    "##### Action 3: Rekey reserve token pool to smart contract"
   ]
  },
  {
   "cell_type": "code",
   "execution_count": 14,
   "metadata": {},
   "outputs": [],
   "source": [
    "if not is_application_address(algod_client, application_address, token_reserve_pool_address): \n",
    "    \n",
    "    result = rekey_pool_to_application(algod_client, application_address, token_reserve_pool_address, token_reserve_pool_private_key)\n",
    "\n",
    "    # print result confirmation transaction confirmation \n",
    "    print_confirmation(result)"
   ]
  },
  {
   "cell_type": "markdown",
   "metadata": {},
   "source": [
    "##### --------------------------------------------------------------------------------------------\n",
    "# **token_active_pool**: 3 actions\n",
    "\n",
    "##### 1) ----------> Opt pool into smart contract \n",
    "##### 2) ----------> Opt pool into index_token\n",
    "##### 3) ----------> Rekey pool to smart contract\n",
    "\n",
    "##### --------------------------------------------------------------------------------------------"
   ]
  },
  {
   "cell_type": "markdown",
   "metadata": {},
   "source": [
    "##### Action 1: Opt active pool into Smart Contract"
   ]
  },
  {
   "cell_type": "code",
   "execution_count": 15,
   "metadata": {},
   "outputs": [],
   "source": [
    "# if pool account is not opted into the app, opt into it\n",
    "if not is_opted_in_app(algod_client, token_active_pool_address, app_id):\n",
    "\n",
    "    # opt into application from pool account\n",
    "    result = opt_in_app(algod_client, token_active_pool_private_key, app_id)\n",
    "\n",
    "    # print result confirmation transaction confirmation \n",
    "    print_confirmation(result)"
   ]
  },
  {
   "cell_type": "markdown",
   "metadata": {},
   "source": [
    "##### Action 2: Opt active pool into index_token (LCASA)"
   ]
  },
  {
   "cell_type": "code",
   "execution_count": 16,
   "metadata": {},
   "outputs": [
    {
     "name": "stdout",
     "output_type": "stream",
     "text": [
      "Asset ID: 56368419\n",
      "{\n",
      "    \"amount\": 0,\n",
      "    \"asset-id\": 56368419,\n",
      "    \"creator\": \"V7EZRG3IE2GQC7C44CVCXUYV4UVRRUYGBKKUWYFMXJFPKKIZADXSXM6WLY\",\n",
      "    \"is-frozen\": false\n",
      "}\n"
     ]
    }
   ],
   "source": [
    "# if pool is not opted into the asset, opt into it\n",
    "if not is_opted_in_asset(algod_client, index_token_id, token_active_pool_address):\n",
    "\n",
    "    print(\"Account is not opted in to index token (LCASA).. opting in now...\")\n",
    "\n",
    "    # opt into USDC from pool account\n",
    "    result = opt_into_asset(algod_client, token_active_pool_address, token_active_pool_private_key, index_token_id)\n",
    "\n",
    "    # print result confirmation transaction confirmation \n",
    "    print_confirmation(result)\n",
    "\n",
    "# print pool asset holdings\n",
    "print_asset_holding(algod_client, token_active_pool_address, index_token_id)"
   ]
  },
  {
   "cell_type": "markdown",
   "metadata": {},
   "source": [
    "##### Action 3: Rekey active token pool to smart contract"
   ]
  },
  {
   "cell_type": "code",
   "execution_count": 17,
   "metadata": {},
   "outputs": [],
   "source": [
    "if not is_application_address(algod_client, application_address, token_active_pool_address): \n",
    "    \n",
    "    result = rekey_pool_to_application(algod_client, application_address, token_active_pool_address, token_active_pool_private_key)\n",
    "\n",
    "    # print result confirmation transaction confirmation \n",
    "    print_confirmation(result)"
   ]
  },
  {
   "cell_type": "markdown",
   "metadata": {},
   "source": [
    "##### --------------------------------------------------------------------------------------------\n",
    "# **token_stake_pool**: 3 actions\n",
    "\n",
    "##### 1) ----------> Opt pool into smart contract \n",
    "##### 2) ----------> Opt pool into index_token\n",
    "##### 3) ----------> Rekey pool to smart contract\n",
    "\n",
    "##### --------------------------------------------------------------------------------------------"
   ]
  },
  {
   "cell_type": "markdown",
   "metadata": {},
   "source": [
    "##### Action 1: Opt stake pool into Smart Contract"
   ]
  },
  {
   "cell_type": "code",
   "execution_count": 18,
   "metadata": {},
   "outputs": [],
   "source": [
    "# if pool account is not opted into the app, opt into it\n",
    "if not is_opted_in_app(algod_client, token_stake_pool_address, app_id):\n",
    "\n",
    "    # opt into application from pool account\n",
    "    result = opt_in_app(algod_client, token_stake_pool_private_key, app_id)\n",
    "\n",
    "    # print result confirmation transaction confirmation \n",
    "    print_confirmation(result)\n"
   ]
  },
  {
   "cell_type": "markdown",
   "metadata": {},
   "source": [
    "##### Action 2: Opt stake pool into index_token (LCASA)"
   ]
  },
  {
   "cell_type": "code",
   "execution_count": 19,
   "metadata": {},
   "outputs": [
    {
     "name": "stdout",
     "output_type": "stream",
     "text": [
      "Asset ID: 56368419\n",
      "{\n",
      "    \"amount\": 0,\n",
      "    \"asset-id\": 56368419,\n",
      "    \"creator\": \"V7EZRG3IE2GQC7C44CVCXUYV4UVRRUYGBKKUWYFMXJFPKKIZADXSXM6WLY\",\n",
      "    \"is-frozen\": false\n",
      "}\n"
     ]
    }
   ],
   "source": [
    "# if pool is not opted into the asset, opt into it\n",
    "if not is_opted_in_asset(algod_client, index_token_id, token_stake_pool_address):\n",
    "\n",
    "    print(\"Account is not opted in to index token (LCASA).. opting in now...\")\n",
    "\n",
    "    # opt into USDC from pool account\n",
    "    result = opt_into_asset(algod_client, token_stake_pool_address, token_stake_pool_private_key, index_token_id)\n",
    "\n",
    "    # print result confirmation transaction confirmation \n",
    "    print_confirmation(result)\n",
    "\n",
    "# print pool asset holdings\n",
    "print_asset_holding(algod_client, token_stake_pool_address, index_token_id)"
   ]
  },
  {
   "cell_type": "markdown",
   "metadata": {},
   "source": [
    "##### Action 3: Rekey stake token pool to smart contract"
   ]
  },
  {
   "cell_type": "code",
   "execution_count": 20,
   "metadata": {},
   "outputs": [],
   "source": [
    "if not is_application_address(algod_client, application_address, token_stake_pool_address): \n",
    "    \n",
    "    result = rekey_pool_to_application(algod_client, application_address, token_stake_pool_address, token_stake_pool_private_key)\n",
    "\n",
    "    # print result confirmation transaction confirmation \n",
    "    print_confirmation(result)"
   ]
  },
  {
   "cell_type": "markdown",
   "metadata": {},
   "source": [
    "##### --------------------------------------------------------------------------------------------\n",
    "# **payback_pool**: 3 actions\n",
    "\n",
    "##### 1) ----------> Opt pool into smart contract \n",
    "##### 2) ----------> Opt pool into USDC\n",
    "##### 3) ----------> Rekey pool to smart contract\n",
    "\n",
    "##### --------------------------------------------------------------------------------------------"
   ]
  },
  {
   "cell_type": "markdown",
   "metadata": {},
   "source": [
    "##### Action 1: Opt Payback Pool into Smart Contract"
   ]
  },
  {
   "cell_type": "code",
   "execution_count": 21,
   "metadata": {},
   "outputs": [],
   "source": [
    "# if pool account is not opted into the app, opt into it\n",
    "if not is_opted_in_app(algod_client, payback_pool_address, app_id):\n",
    "\n",
    "    # opt into application from pool account\n",
    "    result = opt_in_app(algod_client, payback_pool_private_key, app_id)\n",
    "\n",
    "    # print result confirmation transaction confirmation \n",
    "    print_confirmation(result)"
   ]
  },
  {
   "cell_type": "markdown",
   "metadata": {},
   "source": [
    "##### Action 2: Opt Payback Pool into USDC"
   ]
  },
  {
   "cell_type": "code",
   "execution_count": 22,
   "metadata": {},
   "outputs": [
    {
     "name": "stdout",
     "output_type": "stream",
     "text": [
      "Asset ID: 10458941\n",
      "{\n",
      "    \"amount\": 0,\n",
      "    \"asset-id\": 10458941,\n",
      "    \"creator\": \"VETIGP3I6RCUVLVYNDW5UA2OJMXB5WP6L6HJ3RWO2R37GP4AVETICXC55I\",\n",
      "    \"is-frozen\": false\n",
      "}\n"
     ]
    }
   ],
   "source": [
    "# if pool is not opted into the asset, opt into it\n",
    "if not is_opted_in_asset(algod_client, usdc_id, payback_pool_address):\n",
    "\n",
    "    print(\"Account is not opted in to USDC.. opting in now...\")\n",
    "\n",
    "    # opt into USDC from pool account\n",
    "    result = opt_into_asset(algod_client, payback_pool_address, payback_pool_private_key, usdc_id)\n",
    "\n",
    "    # print result confirmation transaction confirmation \n",
    "    print_confirmation(result)\n",
    "\n",
    "# print pool asset holdings\n",
    "print_asset_holding(algod_client, payback_pool_address, usdc_id)"
   ]
  },
  {
   "cell_type": "markdown",
   "metadata": {},
   "source": [
    "##### Action 3: Rekey Payback Pool to Smart Contract"
   ]
  },
  {
   "cell_type": "code",
   "execution_count": 23,
   "metadata": {},
   "outputs": [],
   "source": [
    "if not is_application_address(algod_client, application_address, payback_pool_address): \n",
    "    \n",
    "    result = rekey_pool_to_application(algod_client, application_address, payback_pool_address, payback_pool_private_key)\n",
    "\n",
    "    # print result confirmation transaction confirmation \n",
    "    print_confirmation(result)"
   ]
  },
  {
   "cell_type": "markdown",
   "metadata": {},
   "source": [
    "# Add Pool (only manager address can do this)"
   ]
  },
  {
   "cell_type": "code",
   "execution_count": 24,
   "metadata": {},
   "outputs": [
    {
     "name": "stdout",
     "output_type": "stream",
     "text": [
      "Call from account: XRH2VHWTWNOXNYJ3WMBE467KJXYS3E4GVKCYSVD2UM4KIIWXFHJPB6SDAM\n"
     ]
    },
    {
     "ename": "AlgodHTTPError",
     "evalue": "{\"message\":\"TransactionPool.Remember: transaction IRFCYQYN44NHWVTNBH4XFMFMPLSLVGL75TX6QNBFFFNKUMSRAYHQ: logic eval error: invalid Account reference NPQHUMZIMDASRNTDXTHL6M44DQM7N3U4SNHOJMQ4M2L7AO4MVJ3ZKMFZIA\"}\n",
     "output_type": "error",
     "traceback": [
      "\u001b[0;31m---------------------------------------------------------------------------\u001b[0m",
      "\u001b[0;31mHTTPError\u001b[0m                                 Traceback (most recent call last)",
      "\u001b[0;32m~/opt/anaconda3/lib/python3.8/site-packages/algosdk/v2client/algod.py\u001b[0m in \u001b[0;36malgod_request\u001b[0;34m(self, method, requrl, params, data, headers, response_format)\u001b[0m\n\u001b[1;32m     71\u001b[0m         \u001b[0;32mtry\u001b[0m\u001b[0;34m:\u001b[0m\u001b[0;34m\u001b[0m\u001b[0;34m\u001b[0m\u001b[0m\n\u001b[0;32m---> 72\u001b[0;31m             \u001b[0mresp\u001b[0m \u001b[0;34m=\u001b[0m \u001b[0murlopen\u001b[0m\u001b[0;34m(\u001b[0m\u001b[0mreq\u001b[0m\u001b[0;34m)\u001b[0m\u001b[0;34m\u001b[0m\u001b[0;34m\u001b[0m\u001b[0m\n\u001b[0m\u001b[1;32m     73\u001b[0m         \u001b[0;32mexcept\u001b[0m \u001b[0murllib\u001b[0m\u001b[0;34m.\u001b[0m\u001b[0merror\u001b[0m\u001b[0;34m.\u001b[0m\u001b[0mHTTPError\u001b[0m \u001b[0;32mas\u001b[0m \u001b[0me\u001b[0m\u001b[0;34m:\u001b[0m\u001b[0;34m\u001b[0m\u001b[0;34m\u001b[0m\u001b[0m\n",
      "\u001b[0;32m~/opt/anaconda3/lib/python3.8/urllib/request.py\u001b[0m in \u001b[0;36murlopen\u001b[0;34m(url, data, timeout, cafile, capath, cadefault, context)\u001b[0m\n\u001b[1;32m    221\u001b[0m         \u001b[0mopener\u001b[0m \u001b[0;34m=\u001b[0m \u001b[0m_opener\u001b[0m\u001b[0;34m\u001b[0m\u001b[0;34m\u001b[0m\u001b[0m\n\u001b[0;32m--> 222\u001b[0;31m     \u001b[0;32mreturn\u001b[0m \u001b[0mopener\u001b[0m\u001b[0;34m.\u001b[0m\u001b[0mopen\u001b[0m\u001b[0;34m(\u001b[0m\u001b[0murl\u001b[0m\u001b[0;34m,\u001b[0m \u001b[0mdata\u001b[0m\u001b[0;34m,\u001b[0m \u001b[0mtimeout\u001b[0m\u001b[0;34m)\u001b[0m\u001b[0;34m\u001b[0m\u001b[0;34m\u001b[0m\u001b[0m\n\u001b[0m\u001b[1;32m    223\u001b[0m \u001b[0;34m\u001b[0m\u001b[0m\n",
      "\u001b[0;32m~/opt/anaconda3/lib/python3.8/urllib/request.py\u001b[0m in \u001b[0;36mopen\u001b[0;34m(self, fullurl, data, timeout)\u001b[0m\n\u001b[1;32m    530\u001b[0m             \u001b[0mmeth\u001b[0m \u001b[0;34m=\u001b[0m \u001b[0mgetattr\u001b[0m\u001b[0;34m(\u001b[0m\u001b[0mprocessor\u001b[0m\u001b[0;34m,\u001b[0m \u001b[0mmeth_name\u001b[0m\u001b[0;34m)\u001b[0m\u001b[0;34m\u001b[0m\u001b[0;34m\u001b[0m\u001b[0m\n\u001b[0;32m--> 531\u001b[0;31m             \u001b[0mresponse\u001b[0m \u001b[0;34m=\u001b[0m \u001b[0mmeth\u001b[0m\u001b[0;34m(\u001b[0m\u001b[0mreq\u001b[0m\u001b[0;34m,\u001b[0m \u001b[0mresponse\u001b[0m\u001b[0;34m)\u001b[0m\u001b[0;34m\u001b[0m\u001b[0;34m\u001b[0m\u001b[0m\n\u001b[0m\u001b[1;32m    532\u001b[0m \u001b[0;34m\u001b[0m\u001b[0m\n",
      "\u001b[0;32m~/opt/anaconda3/lib/python3.8/urllib/request.py\u001b[0m in \u001b[0;36mhttp_response\u001b[0;34m(self, request, response)\u001b[0m\n\u001b[1;32m    639\u001b[0m         \u001b[0;32mif\u001b[0m \u001b[0;32mnot\u001b[0m \u001b[0;34m(\u001b[0m\u001b[0;36m200\u001b[0m \u001b[0;34m<=\u001b[0m \u001b[0mcode\u001b[0m \u001b[0;34m<\u001b[0m \u001b[0;36m300\u001b[0m\u001b[0;34m)\u001b[0m\u001b[0;34m:\u001b[0m\u001b[0;34m\u001b[0m\u001b[0;34m\u001b[0m\u001b[0m\n\u001b[0;32m--> 640\u001b[0;31m             response = self.parent.error(\n\u001b[0m\u001b[1;32m    641\u001b[0m                 'http', request, response, code, msg, hdrs)\n",
      "\u001b[0;32m~/opt/anaconda3/lib/python3.8/urllib/request.py\u001b[0m in \u001b[0;36merror\u001b[0;34m(self, proto, *args)\u001b[0m\n\u001b[1;32m    568\u001b[0m             \u001b[0margs\u001b[0m \u001b[0;34m=\u001b[0m \u001b[0;34m(\u001b[0m\u001b[0mdict\u001b[0m\u001b[0;34m,\u001b[0m \u001b[0;34m'default'\u001b[0m\u001b[0;34m,\u001b[0m \u001b[0;34m'http_error_default'\u001b[0m\u001b[0;34m)\u001b[0m \u001b[0;34m+\u001b[0m \u001b[0morig_args\u001b[0m\u001b[0;34m\u001b[0m\u001b[0;34m\u001b[0m\u001b[0m\n\u001b[0;32m--> 569\u001b[0;31m             \u001b[0;32mreturn\u001b[0m \u001b[0mself\u001b[0m\u001b[0;34m.\u001b[0m\u001b[0m_call_chain\u001b[0m\u001b[0;34m(\u001b[0m\u001b[0;34m*\u001b[0m\u001b[0margs\u001b[0m\u001b[0;34m)\u001b[0m\u001b[0;34m\u001b[0m\u001b[0;34m\u001b[0m\u001b[0m\n\u001b[0m\u001b[1;32m    570\u001b[0m \u001b[0;34m\u001b[0m\u001b[0m\n",
      "\u001b[0;32m~/opt/anaconda3/lib/python3.8/urllib/request.py\u001b[0m in \u001b[0;36m_call_chain\u001b[0;34m(self, chain, kind, meth_name, *args)\u001b[0m\n\u001b[1;32m    501\u001b[0m             \u001b[0mfunc\u001b[0m \u001b[0;34m=\u001b[0m \u001b[0mgetattr\u001b[0m\u001b[0;34m(\u001b[0m\u001b[0mhandler\u001b[0m\u001b[0;34m,\u001b[0m \u001b[0mmeth_name\u001b[0m\u001b[0;34m)\u001b[0m\u001b[0;34m\u001b[0m\u001b[0;34m\u001b[0m\u001b[0m\n\u001b[0;32m--> 502\u001b[0;31m             \u001b[0mresult\u001b[0m \u001b[0;34m=\u001b[0m \u001b[0mfunc\u001b[0m\u001b[0;34m(\u001b[0m\u001b[0;34m*\u001b[0m\u001b[0margs\u001b[0m\u001b[0;34m)\u001b[0m\u001b[0;34m\u001b[0m\u001b[0;34m\u001b[0m\u001b[0m\n\u001b[0m\u001b[1;32m    503\u001b[0m             \u001b[0;32mif\u001b[0m \u001b[0mresult\u001b[0m \u001b[0;32mis\u001b[0m \u001b[0;32mnot\u001b[0m \u001b[0;32mNone\u001b[0m\u001b[0;34m:\u001b[0m\u001b[0;34m\u001b[0m\u001b[0;34m\u001b[0m\u001b[0m\n",
      "\u001b[0;32m~/opt/anaconda3/lib/python3.8/urllib/request.py\u001b[0m in \u001b[0;36mhttp_error_default\u001b[0;34m(self, req, fp, code, msg, hdrs)\u001b[0m\n\u001b[1;32m    648\u001b[0m     \u001b[0;32mdef\u001b[0m \u001b[0mhttp_error_default\u001b[0m\u001b[0;34m(\u001b[0m\u001b[0mself\u001b[0m\u001b[0;34m,\u001b[0m \u001b[0mreq\u001b[0m\u001b[0;34m,\u001b[0m \u001b[0mfp\u001b[0m\u001b[0;34m,\u001b[0m \u001b[0mcode\u001b[0m\u001b[0;34m,\u001b[0m \u001b[0mmsg\u001b[0m\u001b[0;34m,\u001b[0m \u001b[0mhdrs\u001b[0m\u001b[0;34m)\u001b[0m\u001b[0;34m:\u001b[0m\u001b[0;34m\u001b[0m\u001b[0;34m\u001b[0m\u001b[0m\n\u001b[0;32m--> 649\u001b[0;31m         \u001b[0;32mraise\u001b[0m \u001b[0mHTTPError\u001b[0m\u001b[0;34m(\u001b[0m\u001b[0mreq\u001b[0m\u001b[0;34m.\u001b[0m\u001b[0mfull_url\u001b[0m\u001b[0;34m,\u001b[0m \u001b[0mcode\u001b[0m\u001b[0;34m,\u001b[0m \u001b[0mmsg\u001b[0m\u001b[0;34m,\u001b[0m \u001b[0mhdrs\u001b[0m\u001b[0;34m,\u001b[0m \u001b[0mfp\u001b[0m\u001b[0;34m)\u001b[0m\u001b[0;34m\u001b[0m\u001b[0;34m\u001b[0m\u001b[0m\n\u001b[0m\u001b[1;32m    650\u001b[0m \u001b[0;34m\u001b[0m\u001b[0m\n",
      "\u001b[0;31mHTTPError\u001b[0m: HTTP Error 400: Bad Request",
      "\nDuring handling of the above exception, another exception occurred:\n",
      "\u001b[0;31mAlgodHTTPError\u001b[0m                            Traceback (most recent call last)",
      "\u001b[0;32m~/opt/anaconda3/lib/python3.8/site-packages/algosdk/v2client/algod.py\u001b[0m in \u001b[0;36malgod_request\u001b[0;34m(self, method, requrl, params, data, headers, response_format)\u001b[0m\n\u001b[1;32m     76\u001b[0m             \u001b[0;32mtry\u001b[0m\u001b[0;34m:\u001b[0m\u001b[0;34m\u001b[0m\u001b[0;34m\u001b[0m\u001b[0m\n\u001b[0;32m---> 77\u001b[0;31m                 \u001b[0;32mraise\u001b[0m \u001b[0merror\u001b[0m\u001b[0;34m.\u001b[0m\u001b[0mAlgodHTTPError\u001b[0m\u001b[0;34m(\u001b[0m\u001b[0mjson\u001b[0m\u001b[0;34m.\u001b[0m\u001b[0mloads\u001b[0m\u001b[0;34m(\u001b[0m\u001b[0me\u001b[0m\u001b[0;34m)\u001b[0m\u001b[0;34m[\u001b[0m\u001b[0;34m\"message\"\u001b[0m\u001b[0;34m]\u001b[0m\u001b[0;34m,\u001b[0m \u001b[0mcode\u001b[0m\u001b[0;34m)\u001b[0m\u001b[0;34m\u001b[0m\u001b[0;34m\u001b[0m\u001b[0m\n\u001b[0m\u001b[1;32m     78\u001b[0m             \u001b[0;32mexcept\u001b[0m\u001b[0;34m:\u001b[0m\u001b[0;34m\u001b[0m\u001b[0;34m\u001b[0m\u001b[0m\n",
      "\u001b[0;31mAlgodHTTPError\u001b[0m: TransactionPool.Remember: transaction IRFCYQYN44NHWVTNBH4XFMFMPLSLVGL75TX6QNBFFFNKUMSRAYHQ: logic eval error: invalid Account reference NPQHUMZIMDASRNTDXTHL6M44DQM7N3U4SNHOJMQ4M2L7AO4MVJ3ZKMFZIA",
      "\nDuring handling of the above exception, another exception occurred:\n",
      "\u001b[0;31mAlgodHTTPError\u001b[0m                            Traceback (most recent call last)",
      "\u001b[0;32m<ipython-input-24-3555b2ad2d40>\u001b[0m in \u001b[0;36m<module>\u001b[0;34m\u001b[0m\n\u001b[1;32m     29\u001b[0m \u001b[0;34m\u001b[0m\u001b[0m\n\u001b[1;32m     30\u001b[0m \u001b[0;34m\u001b[0m\u001b[0m\n\u001b[0;32m---> 31\u001b[0;31m result = add_pool(\n\u001b[0m\u001b[1;32m     32\u001b[0m     \u001b[0mclient\u001b[0m\u001b[0;34m=\u001b[0m\u001b[0malgod_client\u001b[0m\u001b[0;34m,\u001b[0m\u001b[0;34m\u001b[0m\u001b[0;34m\u001b[0m\u001b[0m\n\u001b[1;32m     33\u001b[0m     \u001b[0mapp_args\u001b[0m\u001b[0;34m=\u001b[0m\u001b[0mapp_args\u001b[0m\u001b[0;34m,\u001b[0m\u001b[0;34m\u001b[0m\u001b[0;34m\u001b[0m\u001b[0m\n",
      "\u001b[0;32m~/casa/setup/application_calls/add_pool.py\u001b[0m in \u001b[0;36madd_pool\u001b[0;34m(client, app_args, creator_address, creator_private_key, app_id)\u001b[0m\n\u001b[1;32m     13\u001b[0m \u001b[0;34m\u001b[0m\u001b[0m\n\u001b[1;32m     14\u001b[0m     \u001b[0;31m# call app with msig=True (manager address is a multisig account)\u001b[0m\u001b[0;34m\u001b[0m\u001b[0;34m\u001b[0m\u001b[0;34m\u001b[0m\u001b[0m\n\u001b[0;32m---> 15\u001b[0;31m     \u001b[0mresult\u001b[0m \u001b[0;34m=\u001b[0m \u001b[0mcall_app\u001b[0m\u001b[0;34m(\u001b[0m\u001b[0mclient\u001b[0m\u001b[0;34m,\u001b[0m \u001b[0mcreator_address\u001b[0m\u001b[0;34m,\u001b[0m \u001b[0mcreator_private_key\u001b[0m\u001b[0;34m,\u001b[0m \u001b[0mapp_id\u001b[0m\u001b[0;34m,\u001b[0m \u001b[0margs\u001b[0m\u001b[0;34m,\u001b[0m \u001b[0mmsig\u001b[0m\u001b[0;34m=\u001b[0m\u001b[0;32mTrue\u001b[0m\u001b[0;34m)\u001b[0m\u001b[0;34m\u001b[0m\u001b[0;34m\u001b[0m\u001b[0m\n\u001b[0m\u001b[1;32m     16\u001b[0m \u001b[0;34m\u001b[0m\u001b[0m\n\u001b[1;32m     17\u001b[0m     \u001b[0;32mreturn\u001b[0m \u001b[0mresult\u001b[0m\u001b[0;34m\u001b[0m\u001b[0;34m\u001b[0m\u001b[0m\n",
      "\u001b[0;32m~/casa/setup/call_app.py\u001b[0m in \u001b[0;36mcall_app\u001b[0;34m(client, creator_address, private_key, index, app_args, msig)\u001b[0m\n\u001b[1;32m     64\u001b[0m \u001b[0;34m\u001b[0m\u001b[0m\n\u001b[1;32m     65\u001b[0m         \u001b[0;31m# send transaction\u001b[0m\u001b[0;34m\u001b[0m\u001b[0;34m\u001b[0m\u001b[0;34m\u001b[0m\u001b[0m\n\u001b[0;32m---> 66\u001b[0;31m         \u001b[0mclient\u001b[0m\u001b[0;34m.\u001b[0m\u001b[0msend_transactions\u001b[0m\u001b[0;34m(\u001b[0m\u001b[0;34m[\u001b[0m\u001b[0mmultisig_transaction\u001b[0m\u001b[0;34m]\u001b[0m\u001b[0;34m)\u001b[0m\u001b[0;34m\u001b[0m\u001b[0;34m\u001b[0m\u001b[0m\n\u001b[0m\u001b[1;32m     67\u001b[0m \u001b[0;34m\u001b[0m\u001b[0m\n\u001b[1;32m     68\u001b[0m         \u001b[0;31m# await confirmation\u001b[0m\u001b[0;34m\u001b[0m\u001b[0;34m\u001b[0m\u001b[0;34m\u001b[0m\u001b[0m\n",
      "\u001b[0;32m~/opt/anaconda3/lib/python3.8/site-packages/algosdk/v2client/algod.py\u001b[0m in \u001b[0;36msend_transactions\u001b[0;34m(self, txns, **kwargs)\u001b[0m\n\u001b[1;32m    270\u001b[0m             \u001b[0mserialized\u001b[0m\u001b[0;34m.\u001b[0m\u001b[0mappend\u001b[0m\u001b[0;34m(\u001b[0m\u001b[0mbase64\u001b[0m\u001b[0;34m.\u001b[0m\u001b[0mb64decode\u001b[0m\u001b[0;34m(\u001b[0m\u001b[0mencoding\u001b[0m\u001b[0;34m.\u001b[0m\u001b[0mmsgpack_encode\u001b[0m\u001b[0;34m(\u001b[0m\u001b[0mtxn\u001b[0m\u001b[0;34m)\u001b[0m\u001b[0;34m)\u001b[0m\u001b[0;34m)\u001b[0m\u001b[0;34m\u001b[0m\u001b[0;34m\u001b[0m\u001b[0m\n\u001b[1;32m    271\u001b[0m \u001b[0;34m\u001b[0m\u001b[0m\n\u001b[0;32m--> 272\u001b[0;31m         return self.send_raw_transaction(base64.b64encode(\n\u001b[0m\u001b[1;32m    273\u001b[0m                                          b''.join(serialized)), **kwargs)\n\u001b[1;32m    274\u001b[0m \u001b[0;34m\u001b[0m\u001b[0m\n",
      "\u001b[0;32m~/opt/anaconda3/lib/python3.8/site-packages/algosdk/v2client/algod.py\u001b[0m in \u001b[0;36msend_raw_transaction\u001b[0;34m(self, txn, **kwargs)\u001b[0m\n\u001b[1;32m    209\u001b[0m         \u001b[0mreq\u001b[0m \u001b[0;34m=\u001b[0m \u001b[0;34m\"/transactions\"\u001b[0m\u001b[0;34m\u001b[0m\u001b[0;34m\u001b[0m\u001b[0m\n\u001b[1;32m    210\u001b[0m         \u001b[0mheaders\u001b[0m \u001b[0;34m=\u001b[0m \u001b[0;34m{\u001b[0m \u001b[0;34m'Content-Type'\u001b[0m\u001b[0;34m:\u001b[0m \u001b[0;34m'application/x-binary'\u001b[0m \u001b[0;34m}\u001b[0m\u001b[0;34m\u001b[0m\u001b[0;34m\u001b[0m\u001b[0m\n\u001b[0;32m--> 211\u001b[0;31m         \u001b[0;32mreturn\u001b[0m \u001b[0mself\u001b[0m\u001b[0;34m.\u001b[0m\u001b[0malgod_request\u001b[0m\u001b[0;34m(\u001b[0m\u001b[0;34m\"POST\"\u001b[0m\u001b[0;34m,\u001b[0m \u001b[0mreq\u001b[0m\u001b[0;34m,\u001b[0m \u001b[0mdata\u001b[0m\u001b[0;34m=\u001b[0m\u001b[0mtxn\u001b[0m\u001b[0;34m,\u001b[0m \u001b[0mheaders\u001b[0m\u001b[0;34m=\u001b[0m\u001b[0mheaders\u001b[0m\u001b[0;34m,\u001b[0m \u001b[0;34m**\u001b[0m\u001b[0mkwargs\u001b[0m\u001b[0;34m)\u001b[0m\u001b[0;34m[\u001b[0m\u001b[0;34m\"txId\"\u001b[0m\u001b[0;34m]\u001b[0m\u001b[0;34m\u001b[0m\u001b[0;34m\u001b[0m\u001b[0m\n\u001b[0m\u001b[1;32m    212\u001b[0m \u001b[0;34m\u001b[0m\u001b[0m\n\u001b[1;32m    213\u001b[0m     \u001b[0;32mdef\u001b[0m \u001b[0mpending_transactions\u001b[0m\u001b[0;34m(\u001b[0m\u001b[0mself\u001b[0m\u001b[0;34m,\u001b[0m \u001b[0mmax_txns\u001b[0m\u001b[0;34m=\u001b[0m\u001b[0;36m0\u001b[0m\u001b[0;34m,\u001b[0m \u001b[0mresponse_format\u001b[0m\u001b[0;34m=\u001b[0m\u001b[0;34m\"json\"\u001b[0m\u001b[0;34m,\u001b[0m \u001b[0;34m**\u001b[0m\u001b[0mkwargs\u001b[0m\u001b[0;34m)\u001b[0m\u001b[0;34m:\u001b[0m\u001b[0;34m\u001b[0m\u001b[0;34m\u001b[0m\u001b[0m\n",
      "\u001b[0;32m~/opt/anaconda3/lib/python3.8/site-packages/algosdk/v2client/algod.py\u001b[0m in \u001b[0;36malgod_request\u001b[0;34m(self, method, requrl, params, data, headers, response_format)\u001b[0m\n\u001b[1;32m     77\u001b[0m                 \u001b[0;32mraise\u001b[0m \u001b[0merror\u001b[0m\u001b[0;34m.\u001b[0m\u001b[0mAlgodHTTPError\u001b[0m\u001b[0;34m(\u001b[0m\u001b[0mjson\u001b[0m\u001b[0;34m.\u001b[0m\u001b[0mloads\u001b[0m\u001b[0;34m(\u001b[0m\u001b[0me\u001b[0m\u001b[0;34m)\u001b[0m\u001b[0;34m[\u001b[0m\u001b[0;34m\"message\"\u001b[0m\u001b[0;34m]\u001b[0m\u001b[0;34m,\u001b[0m \u001b[0mcode\u001b[0m\u001b[0;34m)\u001b[0m\u001b[0;34m\u001b[0m\u001b[0;34m\u001b[0m\u001b[0m\n\u001b[1;32m     78\u001b[0m             \u001b[0;32mexcept\u001b[0m\u001b[0;34m:\u001b[0m\u001b[0;34m\u001b[0m\u001b[0;34m\u001b[0m\u001b[0m\n\u001b[0;32m---> 79\u001b[0;31m                 \u001b[0;32mraise\u001b[0m \u001b[0merror\u001b[0m\u001b[0;34m.\u001b[0m\u001b[0mAlgodHTTPError\u001b[0m\u001b[0;34m(\u001b[0m\u001b[0me\u001b[0m\u001b[0;34m,\u001b[0m \u001b[0mcode\u001b[0m\u001b[0;34m)\u001b[0m\u001b[0;34m\u001b[0m\u001b[0;34m\u001b[0m\u001b[0m\n\u001b[0m\u001b[1;32m     80\u001b[0m         \u001b[0;32mif\u001b[0m \u001b[0mresponse_format\u001b[0m \u001b[0;34m==\u001b[0m \u001b[0;34m\"json\"\u001b[0m\u001b[0;34m:\u001b[0m\u001b[0;34m\u001b[0m\u001b[0;34m\u001b[0m\u001b[0m\n\u001b[1;32m     81\u001b[0m             \u001b[0;32mtry\u001b[0m\u001b[0;34m:\u001b[0m\u001b[0;34m\u001b[0m\u001b[0;34m\u001b[0m\u001b[0m\n",
      "\u001b[0;31mAlgodHTTPError\u001b[0m: {\"message\":\"TransactionPool.Remember: transaction IRFCYQYN44NHWVTNBH4XFMFMPLSLVGL75TX6QNBFFFNKUMSRAYHQ: logic eval error: invalid Account reference NPQHUMZIMDASRNTDXTHL6M44DQM7N3U4SNHOJMQ4M2L7AO4MVJ3ZKMFZIA\"}\n"
     ]
    }
   ],
   "source": [
    "\n",
    "pool_arg = \"add_pool\".encode()                                   # Txn.application_args[0] \n",
    "# global variable : pool name\n",
    "pool_name = \"lender_usdc_pool\".encode()                          # Txn.application_args[1] \n",
    "\n",
    "pool_name_address_arg = encoding.decode_address(lender_usdc_pool_address) # Txn.application_args[2]\n",
    "\n",
    "\n",
    "# local variables for pool \n",
    "goal_key = \"goal\".encode()                                       # Txn.application_args[3]\n",
    "goal_value = intToBytes(0)                                       # Txn.application_args[4]\n",
    "\n",
    "curr_amount_key = \"curr_amount\".encode()                         # Txn.application_args[5]\n",
    "curr_amount_value = intToBytes(0)                                # Txn.application_args[6]\n",
    "\n",
    "local_rate_key = \"local_rate\".encode()                           # Txn.application_args[7]  \n",
    "local_rate_value = intToBytes(0)                                 # Txn.application_args[8]  \n",
    "\n",
    "# local variables \n",
    "app_args = [pool_arg,                  # 0\n",
    "            pool_name,                 # 1 \n",
    "            pool_name_address_arg,     # 2 \n",
    "            goal_key,                  # 3\n",
    "            goal_value,                # 4 \n",
    "            curr_amount_key,           # 5 \n",
    "            curr_amount_value,         # 6 \n",
    "            local_rate_key,            # 7\n",
    "            local_rate_value           # 8\n",
    "        ]\n",
    "\n",
    "\n",
    "result = add_pool(\n",
    "    client=algod_client, \n",
    "    app_args=app_args, \n",
    "    creator_address=creator_address, \n",
    "    creator_private_key=creator_private_key_1, \n",
    "    app_id=app_id)\n",
    "\n",
    "# print logs\n",
    "print_logs(result)\n",
    "\n",
    "\n",
    "# read global state of application\n",
    "print( \"Global state:\" )\n",
    "global_state = read_global_state(algod_client, creator_address, app_id)\n",
    "pprint.pprint(global_state)\n",
    "\n",
    "# read local state of application from user account\n",
    "print( \"Local state:\" )\n",
    "local_state = read_local_state(algod_client, lender_usdc_pool_address, app_id)\n",
    "pprint.pprint(local_state)"
   ]
  },
  {
   "cell_type": "markdown",
   "metadata": {},
   "source": []
  },
  {
   "cell_type": "markdown",
   "metadata": {},
   "source": []
  },
  {
   "cell_type": "markdown",
   "metadata": {},
   "source": []
  },
  {
   "cell_type": "markdown",
   "metadata": {},
   "source": []
  },
  {
   "cell_type": "markdown",
   "metadata": {},
   "source": []
  },
  {
   "cell_type": "markdown",
   "metadata": {},
   "source": []
  },
  {
   "cell_type": "markdown",
   "metadata": {},
   "source": []
  },
  {
   "cell_type": "markdown",
   "metadata": {},
   "source": [
    "# Test User OptIn to Application"
   ]
  },
  {
   "cell_type": "code",
   "execution_count": null,
   "metadata": {},
   "outputs": [],
   "source": [
    "\"\"\"\n",
    "# if account is not opted into the app, opt in\n",
    "if not is_opted_in_app(algod_client, test_user_address, app_id):\n",
    "\n",
    "    # opt into application from user account\n",
    "    result = opt_in_app(algod_client, test_user_private_key, app_id)\n",
    "\n",
    "    # print result confirmation transaction confirmation \n",
    "    print_confirmation(result)\n",
    "\n",
    "    # print logs\n",
    "    print_logs(result)\n",
    "\n",
    "\n",
    "# read global state of application\n",
    "print( \"Global state:\", read_global_state( algod_client, creator_address, app_id) )\n",
    "\n",
    "# read local state of application from user account\n",
    "print( \"Local state:\", read_local_state( algod_client, test_user_address, app_id) )\n",
    "\"\"\""
   ]
  },
  {
   "cell_type": "markdown",
   "metadata": {},
   "source": [
    "# Test User Calling Application"
   ]
  },
  {
   "cell_type": "code",
   "execution_count": null,
   "metadata": {},
   "outputs": [],
   "source": [
    "\"\"\"\n",
    "# only call the application if the user is opted in\n",
    "if is_opted_in_app(algod_client, test_user_address, app_id):\n",
    "\n",
    "    args = [b\"timelock\"]\n",
    "\n",
    "        \n",
    "    result = call_app(algod_client, test_user_private_key, app_id, args)    \n",
    "\n",
    "    # print logs\n",
    "    print_logs(result)\n",
    "\n",
    "\n",
    "    # read local state of application from user account\n",
    "    print( \"Local state:\", read_local_state(algod_client, test_user_address, app_id) )\n",
    "\n",
    "    # read global state of application\n",
    "    print( \"Global state:\", read_global_state(algod_client, creator_address, app_id) )\n",
    "\"\"\""
   ]
  },
  {
   "cell_type": "markdown",
   "metadata": {},
   "source": [
    "# Test User Clear App"
   ]
  },
  {
   "cell_type": "code",
   "execution_count": null,
   "metadata": {},
   "outputs": [],
   "source": [
    "\"\"\"\n",
    "# only clear app local storage is the user is opted in\n",
    "if is_opted_in_app(algod_client, test_user_address, app_id):\n",
    "\n",
    "    result = clear_app(algod_client, test_user_private_key, app_id)\n",
    "\n",
    "\n",
    "    # read local state of application from user account\n",
    "    print( \"Local state:\", read_local_state(algod_client, test_user_address, app_id) )\n",
    "\n",
    "    # read global state of application\n",
    "    print( \"Global state:\", read_global_state(algod_client, creator_address, app_id) )\n",
    "\"\"\""
   ]
  }
 ],
 "metadata": {
  "kernelspec": {
   "display_name": "Python 3",
   "language": "python",
   "name": "python3"
  },
  "language_info": {
   "codemirror_mode": {
    "name": "ipython",
    "version": 3
   },
   "file_extension": ".py",
   "mimetype": "text/x-python",
   "name": "python",
   "nbconvert_exporter": "python",
   "pygments_lexer": "ipython3",
   "version": "3.8.5"
  }
 },
 "nbformat": 4,
 "nbformat_minor": 4
}
