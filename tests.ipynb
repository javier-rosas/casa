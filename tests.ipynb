{
 "cells": [
  {
   "cell_type": "markdown",
   "metadata": {},
   "source": [
    "# Imports"
   ]
  },
  {
   "cell_type": "code",
   "execution_count": 2,
   "metadata": {},
   "outputs": [],
   "source": [
    "from algosdk.v2client import algod\n",
    "from algosdk import account\n",
    "\n",
    "from setup.create_app import create_app\n",
    "from setup.opt_in_app import opt_in_app\n",
    "from setup.call_app import call_app\n",
    "from setup.helper_functions import *\n",
    "\n",
    "import json"
   ]
  },
  {
   "cell_type": "markdown",
   "metadata": {},
   "source": [
    "# Initializing Algod Client"
   ]
  },
  {
   "cell_type": "code",
   "execution_count": 3,
   "metadata": {},
   "outputs": [],
   "source": [
    "# user declared algod connection parameters. Node must have EnableDeveloperAPI set to true in its config\n",
    "algod_address = \"http://localhost:4001\"\n",
    "algod_token = \"aaaaaaaaaaaaaaaaaaaaaaaaaaaaaaaaaaaaaaaaaaaaaaaaaaaaaaaaaaaaaaaa\"\n",
    "\n",
    "# initialize an algodClient\n",
    "algod_client = algod.AlgodClient(algod_token, algod_address)"
   ]
  },
  {
   "cell_type": "markdown",
   "metadata": {},
   "source": [
    "# Mnemonic Phrase to Private and Public Keys"
   ]
  },
  {
   "cell_type": "code",
   "execution_count": 4,
   "metadata": {},
   "outputs": [],
   "source": [
    "# open json file with address and mnemonic data\n",
    "f = open('keys.json')\n",
    "data = json.load(f)\n",
    "\n",
    "\n",
    "\n",
    "# Creator address and private key. \n",
    "# This account is a multisig (1/2). \n",
    "# For developement purposes, both private keys are stored in keys.json\n",
    "# This will change in a production environment for security purposes. \n",
    "creator_mnemonic = data['creator_mnemonic']\n",
    "creator_private_key = get_private_key_from_mnemonic(creator_mnemonic)\n",
    "creator_address = mnemonic_to_public_key(creator_mnemonic)\n",
    "\n",
    "\n",
    "\n",
    "# Lender USDC Deposit Pool.\n",
    "# This account is a multisig (1/2).\n",
    "# \n",
    "\n",
    "\n",
    "# User private key. \n",
    "# In this case it is a singlesig, but it could also be a multisig if the user wants to make it one. \n",
    "# For developement purposes, this private key is stored in keys.json\n",
    "user_mnemonic = data['user_mnemonic']\n",
    "user_private_key = get_private_key_from_mnemonic(user_mnemonic)\n",
    "user_address = mnemonic_to_public_key(user_mnemonic)\n",
    "\n",
    "\n",
    "\n",
    "# Closing json file\n",
    "f.close()"
   ]
  },
  {
   "cell_type": "markdown",
   "metadata": {},
   "source": [
    "# Creating Application"
   ]
  },
  {
   "cell_type": "code",
   "execution_count": 4,
   "metadata": {},
   "outputs": [
    {
     "name": "stdout",
     "output_type": "stream",
     "text": [
      "Waiting for confirmation...\n",
      "Transaction 6TMXORL6NANJBZL2DZBOKSAJKCEF2BHJAUYCZS7TYB3SNBR626YQ confirmed in round 18727957.\n",
      "Created new app-id: 54609609\n",
      "Global state: No global state at this time.\n"
     ]
    }
   ],
   "source": [
    "app_id = create_app(algod_client, creator_private_key)\n",
    "\n",
    "# read global state of application\n",
    "print( \"Global state:\", read_global_state(algod_client, creator_address, app_id) )\n",
    "\n",
    "# read local state of application from user account\n",
    "print( \"Local state:\", read_local_state(algod_client, creator_address, app_id) )"
   ]
  },
  {
   "cell_type": "markdown",
   "metadata": {},
   "source": [
    "# Opting into Application"
   ]
  },
  {
   "cell_type": "code",
   "execution_count": 5,
   "metadata": {},
   "outputs": [],
   "source": [
    "# if account is not opted into the app, opt in\n",
    "if not is_opted_in_app(algod_client, user_address, app_id):\n",
    "\n",
    "    # opt into application from user account\n",
    "    result = opt_in_app(algod_client, user_private_key, app_id)\n",
    "\n",
    "    # print result confirmation transaction confirmation \n",
    "    print_confirmation(result)\n",
    "\n",
    "    # print logs\n",
    "    print_logs(result)\n",
    "\n",
    "\n",
    "# read global state of application\n",
    "print( \"Global state:\", read_global_state( algod_client, creator_address, app_id) )\n",
    "\n",
    "# read local state of application from user account\n",
    "print( \"Local state:\", read_local_state( algod_client, user_address, app_id) )"
   ]
  },
  {
   "cell_type": "markdown",
   "metadata": {},
   "source": [
    "# Calling Application"
   ]
  },
  {
   "cell_type": "code",
   "execution_count": null,
   "metadata": {},
   "outputs": [],
   "source": [
    "args = [b\"vote\", b\"choiceA\"]\n",
    "\n",
    "if not is_opted_in_asset: \n",
    "    # opt in to asset function \n",
    "    pass\n",
    "    \n",
    "result = call_app(algod_client, user_private_key, app_id, args)    \n",
    "\n",
    "\n",
    "# read local state of application from user account\n",
    "print( \"Local state:\", read_local_state(algod_client, user_address, app_id) )\n",
    "\n",
    "# read global state of application\n",
    "print( \"Global state:\", read_global_state(algod_client, creator_address, app_id) )"
   ]
  },
  {
   "cell_type": "code",
   "execution_count": null,
   "metadata": {},
   "outputs": [],
   "source": []
  },
  {
   "cell_type": "code",
   "execution_count": null,
   "metadata": {},
   "outputs": [],
   "source": []
  }
 ],
 "metadata": {
  "kernelspec": {
   "display_name": "Python 3",
   "language": "python",
   "name": "python3"
  },
  "language_info": {
   "codemirror_mode": {
    "name": "ipython",
    "version": 3
   },
   "file_extension": ".py",
   "mimetype": "text/x-python",
   "name": "python",
   "nbconvert_exporter": "python",
   "pygments_lexer": "ipython3",
   "version": "3.8.5"
  }
 },
 "nbformat": 4,
 "nbformat_minor": 4
}
