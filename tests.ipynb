{
 "cells": [
  {
   "cell_type": "markdown",
   "metadata": {},
   "source": [
    "# Imports"
   ]
  },
  {
   "cell_type": "code",
   "execution_count": 1,
   "metadata": {},
   "outputs": [],
   "source": [
    "import json\n",
    "\n",
    "from algosdk.v2client import algod\n",
    "\n",
    "from setup.create_app import create_app\n",
    "from setup.opt_in_app import opt_in_app\n",
    "from setup.call_app import call_app\n",
    "from setup.helper_functions import *\n",
    "\n",
    "from setup.opt_in_to_asset.main import opt_into_asset\n",
    "\n"
   ]
  },
  {
   "cell_type": "markdown",
   "metadata": {},
   "source": [
    "# Initializing Algod Client"
   ]
  },
  {
   "cell_type": "code",
   "execution_count": 2,
   "metadata": {},
   "outputs": [],
   "source": [
    "# user declared algod connection parameters. Node must have EnableDeveloperAPI set to true in its config\n",
    "algod_address = \"http://localhost:4001\"\n",
    "algod_token = \"aaaaaaaaaaaaaaaaaaaaaaaaaaaaaaaaaaaaaaaaaaaaaaaaaaaaaaaaaaaaaaaa\"\n",
    "\n",
    "# initialize an algodClient\n",
    "algod_client = algod.AlgodClient(algod_token, algod_address)"
   ]
  },
  {
   "cell_type": "markdown",
   "metadata": {},
   "source": [
    "# Obtaining Private and Public Keys from keys.json"
   ]
  },
  {
   "cell_type": "code",
   "execution_count": 3,
   "metadata": {},
   "outputs": [],
   "source": [
    "# open json file with address and mnemonic data\n",
    "f = open('keys.json')\n",
    "data = json.load(f)\n",
    "\n",
    "\n",
    "\n",
    "# Creator address and private key. \n",
    "# This account is a multisig (1/2). \n",
    "# For developement purposes, both private keys are stored in keys.json\n",
    "# This will change in a production environment for security purposes. \n",
    "creator_mnemonic_1 = data['creator_multisig_accounts']['creator_mnemonic_1']\n",
    "creator_private_key_1 = get_private_key_from_mnemonic(creator_mnemonic_1)\n",
    "creator_address = data['creator_multisig_address']\n",
    "\n",
    "\n",
    "# Lender USDC Deposit Pool.\n",
    "# This account is single sig Algorand account.\n",
    "# The private key and address is stored in keys.json for development purposes\n",
    "# This account will be rekeyed to the smart contract\n",
    "lender_usdc_pool_mnemonic = data['lender_usdc_pool_mnemonic']\n",
    "lender_usdc_pool_private_key = get_private_key_from_mnemonic(lender_usdc_pool_mnemonic)\n",
    "lender_usdc_pool_address = data['lender_usdc_pool_address']\n",
    "\n",
    "\n",
    "\n",
    "# User private key. \n",
    "# In this case it is a singlesig, but it could also be a multisig if the user wants to make it one. \n",
    "# For developement purposes, this private key is stored in keys.json\n",
    "user_mnemonic = data['user_mnemonic']\n",
    "user_private_key = get_private_key_from_mnemonic(user_mnemonic)\n",
    "user_address = data['user_mnemonic']\n",
    "\n",
    "# USDC ID\n",
    "usdc_id = int(data['usdc_id'])\n",
    "\n",
    "# Closing json file\n",
    "f.close()"
   ]
  },
  {
   "cell_type": "markdown",
   "metadata": {},
   "source": [
    "# Creating Application"
   ]
  },
  {
   "cell_type": "code",
   "execution_count": 4,
   "metadata": {},
   "outputs": [
    {
     "name": "stdout",
     "output_type": "stream",
     "text": [
      "Waiting for confirmation...\n",
      "Transaction FRNR3OOTH7JGTO3GPHXILAYAYLREOARWESLIM74ZBYYFFP4VKCXQ confirmed in round 18770082.\n",
      "Created new app-id: 55012959\n",
      "Application address: SIID3S6XT376KDWO6TY7ZC7HJJZMSKHKTTXWXGW3A6TB67Z4UEKWEGLH3E\n",
      "Global state: No global state at this time.\n",
      "Local state: {}\n"
     ]
    }
   ],
   "source": [
    "app_id, application_address = create_app(algod_client, creator_address, creator_private_key_1)\n",
    "print(\"Created new app-id:\", app_id)\n",
    "print(\"Application address:\", application_address)\n",
    "\n",
    "# read global state of application\n",
    "print( \"Global state:\", read_global_state(algod_client, creator_address, app_id) )\n",
    "\n",
    "# read local state of application from user account\n",
    "print( \"Local state:\", read_local_state(algod_client, creator_address, app_id) )"
   ]
  },
  {
   "cell_type": "markdown",
   "metadata": {},
   "source": [
    "##### --------------------------------------------------------------------------------------------\n",
    "# **lender_usdc_pool**: 3 actions\n",
    "\n",
    "##### 1) ----------> Opt into smart contract \n",
    "##### 2) ----------> Opt into USDC \n",
    "##### 3) ----------> Rekey to smart contract\n",
    "\n",
    "##### --------------------------------------------------------------------------------------------\n"
   ]
  },
  {
   "cell_type": "markdown",
   "metadata": {},
   "source": [
    "##### Action 1: Opt into Smart Contract"
   ]
  },
  {
   "cell_type": "code",
   "execution_count": 5,
   "metadata": {},
   "outputs": [
    {
     "name": "stdout",
     "output_type": "stream",
     "text": [
      "OptIn from account:  AWISZC74CIL7FYO6LFQUTVW2PCMXHQDQ7IUUGMQHJBMUZMNUR4FOJJ2YOI\n",
      "Waiting for confirmation...\n",
      "Transaction G736HOBB7HP74CRJA2YEJIR4VBD5VI3PZNXB7DS2WCQX2XA7QRMQ confirmed in round 18770084.\n",
      "OptIn to app-id: 55012959\n",
      "Result confirmed in round: 18770084\n"
     ]
    }
   ],
   "source": [
    "# if pool account is not opted into the app, opt into it\n",
    "if not is_opted_in_app(algod_client, lender_usdc_pool_address, app_id):\n",
    "\n",
    "    # opt into application from pool account\n",
    "    result = opt_in_app(algod_client, lender_usdc_pool_private_key, app_id)\n",
    "\n",
    "    # print result confirmation transaction confirmation \n",
    "    print_confirmation(result)\n",
    "    "
   ]
  },
  {
   "cell_type": "markdown",
   "metadata": {},
   "source": [
    "##### Action 2: Opt into USDC"
   ]
  },
  {
   "cell_type": "code",
   "execution_count": 4,
   "metadata": {},
   "outputs": [
    {
     "name": "stdout",
     "output_type": "stream",
     "text": [
      "Asset ID: 10458941\n",
      "{\n",
      "    \"amount\": 17782761,\n",
      "    \"asset-id\": 10458941,\n",
      "    \"creator\": \"VETIGP3I6RCUVLVYNDW5UA2OJMXB5WP6L6HJ3RWO2R37GP4AVETICXC55I\",\n",
      "    \"is-frozen\": false\n",
      "}\n"
     ]
    }
   ],
   "source": [
    "# if pool is not opted into the asset, opt into it\n",
    "if not is_opted_in_asset(algod_client, usdc_id, lender_usdc_pool_address):\n",
    "\n",
    "    print(\"Account is not opted in to USDC.. opting in now...\")\n",
    "\n",
    "    # opt into USDC from pool account\n",
    "    result = opt_into_asset(algod_client, lender_usdc_pool_address, lender_usdc_pool_private_key, usdc_id)\n",
    "\n",
    "    # print result confirmation transaction confirmation \n",
    "    print_confirmation(result)\n",
    "\n",
    "# print pool asset holdings\n",
    "print_asset_holding(algod_client, lender_usdc_pool_address, usdc_id)\n"
   ]
  },
  {
   "cell_type": "markdown",
   "metadata": {},
   "source": [
    "##### Action 3: Rekey lender_usdc_pool to Smart Contract"
   ]
  },
  {
   "cell_type": "code",
   "execution_count": null,
   "metadata": {},
   "outputs": [],
   "source": []
  },
  {
   "cell_type": "markdown",
   "metadata": {},
   "source": [
    "# User OptIn to Application"
   ]
  },
  {
   "cell_type": "code",
   "execution_count": 5,
   "metadata": {},
   "outputs": [],
   "source": [
    "# if account is not opted into the app, opt in\n",
    "if not is_opted_in_app(algod_client, user_address, app_id):\n",
    "\n",
    "    # opt into application from user account\n",
    "    result = opt_in_app(algod_client, user_private_key, app_id)\n",
    "\n",
    "    # print result confirmation transaction confirmation \n",
    "    print_confirmation(result)\n",
    "\n",
    "    # print logs\n",
    "    print_logs(result)\n",
    "\n",
    "\n",
    "# read global state of application\n",
    "print( \"Global state:\", read_global_state( algod_client, creator_address, app_id) )\n",
    "\n",
    "# read local state of application from user account\n",
    "print( \"Local state:\", read_local_state( algod_client, user_address, app_id) )"
   ]
  },
  {
   "cell_type": "markdown",
   "metadata": {},
   "source": [
    "# Calling Application"
   ]
  },
  {
   "cell_type": "code",
   "execution_count": null,
   "metadata": {},
   "outputs": [],
   "source": [
    "args = [b\"vote\", b\"choiceA\"]\n",
    "\n",
    "if not is_opted_in_asset: \n",
    "    # opt in to asset function \n",
    "    pass\n",
    "    \n",
    "result = call_app(algod_client, user_private_key, app_id, args)    \n",
    "\n",
    "\n",
    "# read local state of application from user account\n",
    "print( \"Local state:\", read_local_state(algod_client, user_address, app_id) )\n",
    "\n",
    "# read global state of application\n",
    "print( \"Global state:\", read_global_state(algod_client, creator_address, app_id) )"
   ]
  },
  {
   "cell_type": "code",
   "execution_count": null,
   "metadata": {},
   "outputs": [],
   "source": []
  },
  {
   "cell_type": "code",
   "execution_count": null,
   "metadata": {},
   "outputs": [],
   "source": []
  }
 ],
 "metadata": {
  "kernelspec": {
   "display_name": "Python 3",
   "language": "python",
   "name": "python3"
  },
  "language_info": {
   "codemirror_mode": {
    "name": "ipython",
    "version": 3
   },
   "file_extension": ".py",
   "mimetype": "text/x-python",
   "name": "python",
   "nbconvert_exporter": "python",
   "pygments_lexer": "ipython3",
   "version": "3.8.5"
  }
 },
 "nbformat": 4,
 "nbformat_minor": 4
}
