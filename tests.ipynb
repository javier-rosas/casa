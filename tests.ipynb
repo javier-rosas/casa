{
 "cells": [
  {
   "cell_type": "markdown",
   "metadata": {},
   "source": [
    "# Imports"
   ]
  },
  {
   "cell_type": "code",
   "execution_count": 1,
   "metadata": {},
   "outputs": [],
   "source": [
    "import json\n",
    "import pprint\n",
    "\n",
    "from algosdk.v2client import algod\n",
    "\n",
    "from setup.create_app import create_app\n",
    "from setup.opt_in_app import opt_in_app\n",
    "from setup.call_app import call_app\n",
    "from setup.delete_app import delete_app\n",
    "from setup.update_app import update_app\n",
    "from setup.close_out import close_out_app\n",
    "from setup.clear_app import clear_app\n",
    "\n",
    "from setup.helper_functions import *\n",
    "\n",
    "from setup.pool_functions.opt_into_asset import opt_into_asset\n",
    "from setup.pool_functions.rekey_to_application import rekey_pool_to_application\n",
    "from setup.pool_functions.create_asset import create_asset\n",
    "from setup.pool_functions.destroy_asset import destroy_asset\n",
    "\n",
    "from setup.account_generation.create_account import generate_new_application_accounts\n",
    "\n",
    "from setup.application_calls.add_pool import add_pool"
   ]
  },
  {
   "cell_type": "markdown",
   "metadata": {},
   "source": [
    "# Initializing Algod Client"
   ]
  },
  {
   "cell_type": "code",
   "execution_count": 2,
   "metadata": {},
   "outputs": [],
   "source": [
    "# user declared algod connection parameters. Node must have EnableDeveloperAPI set to true in its config\n",
    "algod_address = \"http://localhost:4001\"\n",
    "algod_token = \"aaaaaaaaaaaaaaaaaaaaaaaaaaaaaaaaaaaaaaaaaaaaaaaaaaaaaaaaaaaaaaaa\"\n",
    "\n",
    "# initialize an algodClient\n",
    "algod_client = algod.AlgodClient(algod_token, algod_address)"
   ]
  },
  {
   "cell_type": "markdown",
   "metadata": {},
   "source": [
    "# Obtaining data from keys.json"
   ]
  },
  {
   "cell_type": "code",
   "execution_count": 3,
   "metadata": {},
   "outputs": [],
   "source": [
    "# open json file with address and mnemonic data\n",
    "f = open('keys.json')\n",
    "data = json.load(f)\n",
    "\n",
    "\n",
    "# Creator account. \n",
    "# This account is a multisig (3/5) threshold. \n",
    "# For developement purposes, both private keys are stored in keys.json\n",
    "# This will change in a production environment for security purposes. \n",
    "creator_mnemonic_1 = data['creator_multisig_accounts']['mnemonic_1']\n",
    "creator_private_key_1 = get_private_key_from_mnemonic(creator_mnemonic_1)\n",
    "\n",
    "creator_mnemonic_2 = data['creator_multisig_accounts']['mnemonic_2']\n",
    "creator_private_key_2 = get_private_key_from_mnemonic(creator_mnemonic_2)\n",
    "\n",
    "creator_mnemonic_3 = data['creator_multisig_accounts']['mnemonic_3']\n",
    "creator_private_key_3 = get_private_key_from_mnemonic(creator_mnemonic_3)\n",
    "\n",
    "creator_private_key_list = [creator_private_key_1, creator_private_key_2, creator_private_key_3]\n",
    "\n",
    "creator_address = data['creator_multisig_address']\n",
    "\n",
    "\n",
    "\n",
    "# KYC account. \n",
    "# This account is a multisig (1/2) threshold. \n",
    "# For developement purposes, both private keys are stored in keys.json\n",
    "# This will change in a production environment for security purposes. \n",
    "kyc_mnemonic_1 = data['kyc_multisig_accounts']['mnemonic_1']\n",
    "kyc_private_key_1 = get_private_key_from_mnemonic(kyc_mnemonic_1)\n",
    "\n",
    "kyc_mnemonic_2 = data['kyc_multisig_accounts']['mnemonic_2']\n",
    "kyc_private_key_2 = get_private_key_from_mnemonic(kyc_mnemonic_2)\n",
    "\n",
    "kyc_private_key_list = [kyc_private_key_1, kyc_private_key_2]\n",
    "\n",
    "kyc_address = data['kyc_multisig_address']\n",
    "\n",
    "\n",
    "# Closing json file\n",
    "f.close()"
   ]
  },
  {
   "cell_type": "markdown",
   "metadata": {},
   "source": [
    "# Creating Application"
   ]
  },
  {
   "cell_type": "code",
   "execution_count": 4,
   "metadata": {},
   "outputs": [
    {
     "data": {
      "text/plain": [
       "'\\napp_id, application_address = create_app(algod_client, creator_address, creator_private_key_list)\\n\\n# generate new pool accounts (these need to be opted in and rekeyed to the new smart contract)\\ngenerate_new_application_accounts()\\n\\nprint(\"Created new app-id:\", app_id)\\nprint(\"Application address:\", application_address)\\n\\n# read global state of application\\nprint( \"Global state:\", read_global_state(algod_client, creator_address, app_id) )\\n\\n# read local state of application from user account\\nprint( \"Local state:\", read_local_state(algod_client, creator_address, app_id) )\\n'"
      ]
     },
     "execution_count": 4,
     "metadata": {},
     "output_type": "execute_result"
    }
   ],
   "source": [
    "'''\n",
    "app_id, application_address = create_app(algod_client, creator_address, creator_private_key_list)\n",
    "\n",
    "# generate new pool accounts (these need to be opted in and rekeyed to the new smart contract)\n",
    "generate_new_application_accounts()\n",
    "\n",
    "print(\"Created new app-id:\", app_id)\n",
    "print(\"Application address:\", application_address)\n",
    "\n",
    "# read global state of application\n",
    "print( \"Global state:\", read_global_state(algod_client, creator_address, app_id) )\n",
    "\n",
    "# read local state of application from user account\n",
    "print( \"Local state:\", read_local_state(algod_client, creator_address, app_id) )\n",
    "'''\n"
   ]
  },
  {
   "cell_type": "code",
   "execution_count": 5,
   "metadata": {},
   "outputs": [],
   "source": [
    "# open json file with address and mnemonic data\n",
    "f = open('keys.json')\n",
    "data = json.load(f)\n",
    "\n",
    "\n",
    "# Lender USDC Deposit Pool.\n",
    "# This account is single sig Algorand account.\n",
    "# The private key and address is stored in keys.json for development purposes\n",
    "# This account will be rekeyed to the smart contract\n",
    "lender_usdc_pool_mnemonic = data['lender_usdc_pool_mnemonic']\n",
    "lender_usdc_pool_private_key = get_private_key_from_mnemonic(lender_usdc_pool_mnemonic)\n",
    "lender_usdc_pool_address = data['lender_usdc_pool_address']\n",
    "\n",
    "\n",
    "\n",
    "# Index Token Reserve Pool.\n",
    "# This account is single sig Algorand account.\n",
    "# The private key and address is stored in keys.json for development purposes\n",
    "# This account will be rekeyed to the smart contract\n",
    "token_reserve_pool_mnemonic = data['token_reserve_pool_mnemonic']\n",
    "token_reserve_pool_private_key = get_private_key_from_mnemonic(token_reserve_pool_mnemonic)\n",
    "token_reserve_pool_address = data['token_reserve_pool_address']\n",
    "\n",
    "\n",
    "\n",
    "# Index Token Active Pool.\n",
    "# This account is single sig Algorand account.\n",
    "# The private key and address is stored in keys.json for development purposes\n",
    "# This account will be rekeyed to the smart contract\n",
    "token_active_pool_mnemonic = data['token_active_pool_mnemonic']\n",
    "token_active_pool_private_key = get_private_key_from_mnemonic(token_active_pool_mnemonic)\n",
    "token_active_pool_address = data['token_active_pool_address']\n",
    "\n",
    "\n",
    "\n",
    "# Index Token Stake Pool.\n",
    "# This account is single sig Algorand account.\n",
    "# The private key and address is stored in keys.json for development purposes\n",
    "# This account will be rekeyed to the smart contract\n",
    "token_stake_pool_mnemonic = data['token_stake_pool_mnemonic']\n",
    "token_stake_pool_private_key = get_private_key_from_mnemonic(token_stake_pool_mnemonic)\n",
    "token_stake_pool_address = data['token_stake_pool_address']\n",
    "\n",
    "\n",
    "\n",
    "# Payback Pool.\n",
    "# This account is single sig Algorand account.\n",
    "# The private key and address is stored in keys.json for development purposes\n",
    "# This account will be rekeyed to the smart contract\n",
    "payback_pool_mnemonic = data['payback_pool_mnemonic']\n",
    "payback_pool_private_key = get_private_key_from_mnemonic(payback_pool_mnemonic)\n",
    "payback_pool_address = data['payback_pool_address']\n",
    "\n",
    "\n",
    "\n",
    "# Test user account. (single sig)\n",
    "# In this case it is a singlesig, but it could also be a multisig if the user wants to make it one. \n",
    "# For developement purposes, this private key is stored in keys.json\n",
    "test_user_mnemonic = data['test_user_mnemonic']\n",
    "test_user_private_key = get_private_key_from_mnemonic(test_user_mnemonic)\n",
    "test_user_address = data['test_user_address']\n",
    "\n",
    "\n",
    "\n",
    "\n",
    "# USDC ID\n",
    "usdc_id = data['usdc_id']\n",
    "\n",
    "\n",
    "# Application ID\n",
    "app_id = data['app_id']\n",
    "\n",
    "# Index Token ID (LCASA)\n",
    "index_token_id = data['index_token_id']\n",
    "\n",
    "# Application Address\n",
    "application_address = data['app_address']\n",
    "\n",
    "# Closing json file\n",
    "f.close()\n"
   ]
  },
  {
   "cell_type": "markdown",
   "metadata": {},
   "source": [
    "# Update Application"
   ]
  },
  {
   "cell_type": "code",
   "execution_count": 6,
   "metadata": {},
   "outputs": [
    {
     "name": "stdout",
     "output_type": "stream",
     "text": [
      "Waiting for confirmation...\n",
      "Transaction FUUXYWJMN7T6KI4HAHH3RQSU32VIQTADZO7CV5NKRUS4GVVG6MQQ confirmed in round 18971423.\n",
      "Application was modified with app_id: 56860226 and with application address: YD73EYAIXBAJESPF2GDW23IV47IB2RLOMHSIJTNLCYNVD4PXMDXNF3HR3M\n",
      "Global state:\n",
      "{'creator_address': 'XQKVERLU6YCTVDIBKOILU7L6ERZPJCYONRVPLRG2II4PNX74CNC7XGBE24',\n",
      " 'current_loans_funded': 0,\n",
      " 'global_current_amount': 0,\n",
      " 'index_token_id': 56862605,\n",
      " 'kyc_address': 'XRH2VHWTWNOXNYJ3WMBE467KJXYS3E4GVKCYSVD2UM4KIIWXFHJPB6SDAM',\n",
      " 'lender_usdc_pool_address': '7IUEUCQAOPLWGRYPKB6X4VVUCHEG5KCGSB37BP4AFAI6NKODQFPXRLT7EU',\n",
      " 'payback_pool_address': 'W2CLHER4FQJUURUWSTCMYMER34GE7AX57H4SZ6C55YXJ3AGPMALT3W5ATI',\n",
      " 'token_active_pool_address': 'PAUO4UB7HEKTVGKMY7E2DS7PDOZTOESLTEH5C2OIXVYNSLF5JB245U3C24',\n",
      " 'token_reserve_pool_address': 'NKJC2Y2SVO7MP5RD2H36RGQFRXXAI6YLUXV6I6X3T6653I753PB6XLNSVE',\n",
      " 'token_stake_pool_address': 'XEIYOL33Q6FRPZLIXX2C4YOEN64NSGN5EDGNUOQNUBWZEMG4ZOBGHM7JHI',\n",
      " 'total_index_tokens_sent': 0,\n",
      " 'usdc_id': 10458941}\n",
      "Local state:\n",
      "{}\n"
     ]
    }
   ],
   "source": [
    "update_app(algod_client, creator_address, creator_private_key_list, app_id)\n",
    "\n",
    "\n",
    "# read global state of application\n",
    "print( \"Global state:\" )\n",
    "global_state = read_global_state(algod_client, creator_address, app_id)\n",
    "pprint.pprint(global_state)\n",
    "\n",
    "# read local state of application from user account\n",
    "print( \"Local state:\" )\n",
    "local_state = read_local_state(algod_client, creator_address, app_id)\n",
    "pprint.pprint(local_state)\n"
   ]
  },
  {
   "cell_type": "code",
   "execution_count": 7,
   "metadata": {},
   "outputs": [
    {
     "data": {
      "text/plain": [
       "'\\n# if pool account is not opted into the app, opt into it\\nif not is_opted_in_app(algod_client, creator_address, app_id):\\n\\n    # opt into application from pool account\\n    result = opt_in_app(algod_client, creator_private_key_1, app_id)\\n\\n    # print result confirmation transaction confirmation \\n    print_confirmation(result)\\n'"
      ]
     },
     "execution_count": 7,
     "metadata": {},
     "output_type": "execute_result"
    }
   ],
   "source": [
    "'''\n",
    "# if pool account is not opted into the app, opt into it\n",
    "if not is_opted_in_app(algod_client, creator_address, app_id):\n",
    "\n",
    "    # opt into application from pool account\n",
    "    result = opt_in_app(algod_client, creator_private_key_1, app_id)\n",
    "\n",
    "    # print result confirmation transaction confirmation \n",
    "    print_confirmation(result)\n",
    "'''\n"
   ]
  },
  {
   "cell_type": "markdown",
   "metadata": {},
   "source": [
    "# Opt KYC Account into smart contract"
   ]
  },
  {
   "cell_type": "code",
   "execution_count": 8,
   "metadata": {},
   "outputs": [
    {
     "data": {
      "text/plain": [
       "'\\n# if pool account is not opted into the app, opt into it\\nif not is_opted_in_app(algod_client, creator_address, app_id):\\n\\n    # opt into application from pool account\\n    result = opt_in_app(algod_client, creator_private_key_1, app_id)\\n\\n    # print result confirmation transaction confirmation \\n    print_confirmation(result)\\n'"
      ]
     },
     "execution_count": 8,
     "metadata": {},
     "output_type": "execute_result"
    }
   ],
   "source": [
    "'''\n",
    "# if pool account is not opted into the app, opt into it\n",
    "if not is_opted_in_app(algod_client, creator_address, app_id):\n",
    "\n",
    "    # opt into application from pool account\n",
    "    result = opt_in_app(algod_client, creator_private_key_1, app_id)\n",
    "\n",
    "    # print result confirmation transaction confirmation \n",
    "    print_confirmation(result)\n",
    "'''"
   ]
  },
  {
   "cell_type": "markdown",
   "metadata": {},
   "source": [
    "##### --------------------------------------------------------------------------------------------\n",
    "# **lender_usdc_pool**: 3 actions\n",
    "\n",
    "##### 1) ----------> Opt pool into smart contract \n",
    "##### 2) ----------> Opt pool into USDC \n",
    "##### 3) ----------> Rekey pool to smart contract\n",
    "\n",
    "##### --------------------------------------------------------------------------------------------\n"
   ]
  },
  {
   "cell_type": "markdown",
   "metadata": {},
   "source": [
    "##### Action 1: Opt Lender USDC Pool into Smart Contract"
   ]
  },
  {
   "cell_type": "code",
   "execution_count": 9,
   "metadata": {},
   "outputs": [],
   "source": [
    "# if pool account is not opted into the app, opt into it\n",
    "if not is_opted_in_app(algod_client, lender_usdc_pool_address, app_id):\n",
    "\n",
    "    # opt into application from pool account\n",
    "    result = opt_in_app(algod_client, lender_usdc_pool_private_key, app_id)\n",
    "\n",
    "    # print result confirmation transaction confirmation \n",
    "    print_confirmation(result)\n",
    "    "
   ]
  },
  {
   "cell_type": "markdown",
   "metadata": {},
   "source": [
    "##### Action 2: Opt Lender USDC Pool into USDC"
   ]
  },
  {
   "cell_type": "code",
   "execution_count": 10,
   "metadata": {},
   "outputs": [
    {
     "name": "stdout",
     "output_type": "stream",
     "text": [
      "Asset ID: 10458941\n",
      "{\n",
      "    \"amount\": 0,\n",
      "    \"asset-id\": 10458941,\n",
      "    \"creator\": \"VETIGP3I6RCUVLVYNDW5UA2OJMXB5WP6L6HJ3RWO2R37GP4AVETICXC55I\",\n",
      "    \"is-frozen\": false\n",
      "}\n"
     ]
    }
   ],
   "source": [
    "# if pool is not opted into the asset, opt into it\n",
    "if not is_opted_in_asset(algod_client, usdc_id, lender_usdc_pool_address):\n",
    "\n",
    "    print(\"Account is not opted in to USDC.. opting in now...\")\n",
    "\n",
    "    # opt into USDC from pool account\n",
    "    result = opt_into_asset(algod_client, lender_usdc_pool_address, lender_usdc_pool_private_key, usdc_id)\n",
    "\n",
    "    # print result confirmation transaction confirmation \n",
    "    print_confirmation(result)\n",
    "\n",
    "# print pool asset holdings\n",
    "print_asset_holding(algod_client, lender_usdc_pool_address, usdc_id)\n"
   ]
  },
  {
   "cell_type": "markdown",
   "metadata": {},
   "source": [
    "##### Action 3: Rekey Lender USDC Pool to Smart Contract"
   ]
  },
  {
   "cell_type": "code",
   "execution_count": 11,
   "metadata": {},
   "outputs": [],
   "source": [
    "if not is_application_address(algod_client, application_address, lender_usdc_pool_address): \n",
    "    \n",
    "    result = rekey_pool_to_application(algod_client, application_address, lender_usdc_pool_address, lender_usdc_pool_private_key)\n",
    "\n",
    "    # print result confirmation transaction confirmation \n",
    "    print_confirmation(result)\n"
   ]
  },
  {
   "cell_type": "markdown",
   "metadata": {},
   "source": [
    "##### --------------------------------------------------------------------------------------------\n",
    "# **token_reserve_pool**: 3 actions\n",
    "\n",
    "##### 1) ----------> Opt pool into smart contract \n",
    "##### 2) ----------> Create index_token (infinite amount)\n",
    "##### 3) ----------> Rekey pool to smart contract\n",
    "\n",
    "##### --------------------------------------------------------------------------------------------"
   ]
  },
  {
   "cell_type": "markdown",
   "metadata": {},
   "source": [
    "##### Action 1: Opt reserve pool into Smart Contract"
   ]
  },
  {
   "cell_type": "code",
   "execution_count": 12,
   "metadata": {},
   "outputs": [],
   "source": [
    "# if pool account is not opted into the app, opt into it\n",
    "if not is_opted_in_app(algod_client, token_reserve_pool_address, app_id):\n",
    "\n",
    "    # opt into application from pool account\n",
    "    result = opt_in_app(algod_client, token_reserve_pool_private_key, app_id)\n",
    "\n",
    "    # print result confirmation transaction confirmation \n",
    "    print_confirmation(result)\n",
    "\n"
   ]
  },
  {
   "cell_type": "markdown",
   "metadata": {},
   "source": [
    "##### Action 2: Create index token and store in reserve address"
   ]
  },
  {
   "cell_type": "code",
   "execution_count": 13,
   "metadata": {},
   "outputs": [],
   "source": [
    "if not is_opted_in_asset(algod_client, index_token_id, token_reserve_pool_address):\n",
    "\n",
    "    create_asset(algod_client, creator_address, token_reserve_pool_address, token_reserve_pool_private_key)"
   ]
  },
  {
   "cell_type": "markdown",
   "metadata": {},
   "source": [
    "##### Reading created token id from keys.json"
   ]
  },
  {
   "cell_type": "code",
   "execution_count": 14,
   "metadata": {},
   "outputs": [],
   "source": [
    "# open json file with address and mnemonic data\n",
    "f = open('keys.json')\n",
    "data = json.load(f)\n",
    "\n",
    "# Index Token ID (LCASA)\n",
    "index_token_id = data['index_token_id']\n",
    "\n",
    "f.close()"
   ]
  },
  {
   "cell_type": "markdown",
   "metadata": {},
   "source": [
    "##### Action 3: Rekey reserve token pool to smart contract"
   ]
  },
  {
   "cell_type": "code",
   "execution_count": 15,
   "metadata": {},
   "outputs": [],
   "source": [
    "if not is_application_address(algod_client, application_address, token_reserve_pool_address): \n",
    "    \n",
    "    result = rekey_pool_to_application(algod_client, application_address, token_reserve_pool_address, token_reserve_pool_private_key)\n",
    "\n",
    "    # print result confirmation transaction confirmation \n",
    "    print_confirmation(result)"
   ]
  },
  {
   "cell_type": "markdown",
   "metadata": {},
   "source": [
    "##### --------------------------------------------------------------------------------------------\n",
    "# **token_active_pool**: 3 actions\n",
    "\n",
    "##### 1) ----------> Opt pool into smart contract \n",
    "##### 2) ----------> Opt pool into index_token\n",
    "##### 3) ----------> Rekey pool to smart contract\n",
    "\n",
    "##### --------------------------------------------------------------------------------------------"
   ]
  },
  {
   "cell_type": "markdown",
   "metadata": {},
   "source": [
    "##### Action 1: Opt active pool into Smart Contract"
   ]
  },
  {
   "cell_type": "code",
   "execution_count": 16,
   "metadata": {},
   "outputs": [],
   "source": [
    "# if pool account is not opted into the app, opt into it\n",
    "if not is_opted_in_app(algod_client, token_active_pool_address, app_id):\n",
    "\n",
    "    # opt into application from pool account\n",
    "    result = opt_in_app(algod_client, token_active_pool_private_key, app_id)\n",
    "\n",
    "    # print result confirmation transaction confirmation \n",
    "    print_confirmation(result)"
   ]
  },
  {
   "cell_type": "markdown",
   "metadata": {},
   "source": [
    "##### Action 2: Opt active pool into index_token (LCASA)"
   ]
  },
  {
   "cell_type": "code",
   "execution_count": 17,
   "metadata": {},
   "outputs": [
    {
     "name": "stdout",
     "output_type": "stream",
     "text": [
      "Asset ID: 56862605\n",
      "{\n",
      "    \"amount\": 0,\n",
      "    \"asset-id\": 56862605,\n",
      "    \"creator\": \"NKJC2Y2SVO7MP5RD2H36RGQFRXXAI6YLUXV6I6X3T6653I753PB6XLNSVE\",\n",
      "    \"is-frozen\": false\n",
      "}\n"
     ]
    }
   ],
   "source": [
    "# if pool is not opted into the asset, opt into it\n",
    "if not is_opted_in_asset(algod_client, index_token_id, token_active_pool_address):\n",
    "\n",
    "    print(\"Account is not opted in to index token (LCASA).. opting in now...\")\n",
    "\n",
    "    # opt into USDC from pool account\n",
    "    result = opt_into_asset(algod_client, token_active_pool_address, token_active_pool_private_key, index_token_id)\n",
    "\n",
    "    # print result confirmation transaction confirmation \n",
    "    print_confirmation(result)\n",
    "\n",
    "# print pool asset holdings\n",
    "print_asset_holding(algod_client, token_active_pool_address, index_token_id)"
   ]
  },
  {
   "cell_type": "markdown",
   "metadata": {},
   "source": [
    "##### Action 3: Rekey active token pool to smart contract"
   ]
  },
  {
   "cell_type": "code",
   "execution_count": 18,
   "metadata": {},
   "outputs": [],
   "source": [
    "if not is_application_address(algod_client, application_address, token_active_pool_address): \n",
    "    \n",
    "    result = rekey_pool_to_application(algod_client, application_address, token_active_pool_address, token_active_pool_private_key)\n",
    "\n",
    "    # print result confirmation transaction confirmation \n",
    "    print_confirmation(result)"
   ]
  },
  {
   "cell_type": "markdown",
   "metadata": {},
   "source": [
    "##### --------------------------------------------------------------------------------------------\n",
    "# **token_stake_pool**: 3 actions\n",
    "\n",
    "##### 1) ----------> Opt pool into smart contract \n",
    "##### 2) ----------> Opt pool into index_token\n",
    "##### 3) ----------> Rekey pool to smart contract\n",
    "\n",
    "##### --------------------------------------------------------------------------------------------"
   ]
  },
  {
   "cell_type": "markdown",
   "metadata": {},
   "source": [
    "##### Action 1: Opt stake pool into Smart Contract"
   ]
  },
  {
   "cell_type": "code",
   "execution_count": 19,
   "metadata": {},
   "outputs": [],
   "source": [
    "# if pool account is not opted into the app, opt into it\n",
    "if not is_opted_in_app(algod_client, token_stake_pool_address, app_id):\n",
    "\n",
    "    # opt into application from pool account\n",
    "    result = opt_in_app(algod_client, token_stake_pool_private_key, app_id)\n",
    "\n",
    "    # print result confirmation transaction confirmation \n",
    "    print_confirmation(result)\n"
   ]
  },
  {
   "cell_type": "markdown",
   "metadata": {},
   "source": [
    "##### Action 2: Opt stake pool into index_token (LCASA)"
   ]
  },
  {
   "cell_type": "code",
   "execution_count": 20,
   "metadata": {},
   "outputs": [
    {
     "name": "stdout",
     "output_type": "stream",
     "text": [
      "Asset ID: 56862605\n",
      "{\n",
      "    \"amount\": 0,\n",
      "    \"asset-id\": 56862605,\n",
      "    \"creator\": \"NKJC2Y2SVO7MP5RD2H36RGQFRXXAI6YLUXV6I6X3T6653I753PB6XLNSVE\",\n",
      "    \"is-frozen\": false\n",
      "}\n"
     ]
    }
   ],
   "source": [
    "# if pool is not opted into the asset, opt into it\n",
    "if not is_opted_in_asset(algod_client, index_token_id, token_stake_pool_address):\n",
    "\n",
    "    print(\"Account is not opted in to index token (LCASA).. opting in now...\")\n",
    "\n",
    "    # opt into USDC from pool account\n",
    "    result = opt_into_asset(algod_client, token_stake_pool_address, token_stake_pool_private_key, index_token_id)\n",
    "\n",
    "    # print result confirmation transaction confirmation \n",
    "    print_confirmation(result)\n",
    "\n",
    "# print pool asset holdings\n",
    "print_asset_holding(algod_client, token_stake_pool_address, index_token_id)"
   ]
  },
  {
   "cell_type": "markdown",
   "metadata": {},
   "source": [
    "##### Action 3: Rekey stake token pool to smart contract"
   ]
  },
  {
   "cell_type": "code",
   "execution_count": 21,
   "metadata": {},
   "outputs": [],
   "source": [
    "if not is_application_address(algod_client, application_address, token_stake_pool_address): \n",
    "    \n",
    "    result = rekey_pool_to_application(algod_client, application_address, token_stake_pool_address, token_stake_pool_private_key)\n",
    "\n",
    "    # print result confirmation transaction confirmation \n",
    "    print_confirmation(result)"
   ]
  },
  {
   "cell_type": "markdown",
   "metadata": {},
   "source": [
    "##### --------------------------------------------------------------------------------------------\n",
    "# **payback_pool**: 3 actions\n",
    "\n",
    "##### 1) ----------> Opt pool into smart contract \n",
    "##### 2) ----------> Opt pool into USDC\n",
    "##### 3) ----------> Rekey pool to smart contract\n",
    "\n",
    "##### --------------------------------------------------------------------------------------------"
   ]
  },
  {
   "cell_type": "markdown",
   "metadata": {},
   "source": [
    "##### Action 1: Opt Payback Pool into Smart Contract"
   ]
  },
  {
   "cell_type": "code",
   "execution_count": 22,
   "metadata": {},
   "outputs": [],
   "source": [
    "# if pool account is not opted into the app, opt into it\n",
    "if not is_opted_in_app(algod_client, payback_pool_address, app_id):\n",
    "\n",
    "    # opt into application from pool account\n",
    "    result = opt_in_app(algod_client, payback_pool_private_key, app_id)\n",
    "\n",
    "    # print result confirmation transaction confirmation \n",
    "    print_confirmation(result)"
   ]
  },
  {
   "cell_type": "markdown",
   "metadata": {},
   "source": [
    "##### Action 2: Opt Payback Pool into USDC"
   ]
  },
  {
   "cell_type": "code",
   "execution_count": 23,
   "metadata": {},
   "outputs": [
    {
     "name": "stdout",
     "output_type": "stream",
     "text": [
      "Asset ID: 10458941\n",
      "{\n",
      "    \"amount\": 0,\n",
      "    \"asset-id\": 10458941,\n",
      "    \"creator\": \"VETIGP3I6RCUVLVYNDW5UA2OJMXB5WP6L6HJ3RWO2R37GP4AVETICXC55I\",\n",
      "    \"is-frozen\": false\n",
      "}\n"
     ]
    }
   ],
   "source": [
    "# if pool is not opted into the asset, opt into it\n",
    "if not is_opted_in_asset(algod_client, usdc_id, payback_pool_address):\n",
    "\n",
    "    print(\"Account is not opted in to USDC.. opting in now...\")\n",
    "\n",
    "    # opt into USDC from pool account\n",
    "    result = opt_into_asset(algod_client, payback_pool_address, payback_pool_private_key, usdc_id)\n",
    "\n",
    "    # print result confirmation transaction confirmation \n",
    "    print_confirmation(result)\n",
    "\n",
    "# print pool asset holdings\n",
    "print_asset_holding(algod_client, payback_pool_address, usdc_id)"
   ]
  },
  {
   "cell_type": "markdown",
   "metadata": {},
   "source": [
    "##### Action 3: Rekey Payback Pool to Smart Contract"
   ]
  },
  {
   "cell_type": "code",
   "execution_count": 24,
   "metadata": {},
   "outputs": [],
   "source": [
    "if not is_application_address(algod_client, application_address, payback_pool_address): \n",
    "    \n",
    "    result = rekey_pool_to_application(algod_client, application_address, payback_pool_address, payback_pool_private_key)\n",
    "\n",
    "    # print result confirmation transaction confirmation \n",
    "    print_confirmation(result)"
   ]
  },
  {
   "cell_type": "markdown",
   "metadata": {},
   "source": [
    "# Add Pool (only the creator address can do this)"
   ]
  },
  {
   "cell_type": "code",
   "execution_count": 25,
   "metadata": {},
   "outputs": [
    {
     "data": {
      "text/plain": [
       "'\\n# DO NOT CHANGE\\npool_arg = \"add_pool\".encode()   \\n\\n# DO CHANGE\\npool_addresses = [lender_usdc_pool_address, payback_pool_address, token_reserve_pool_address, token_active_pool_address]#, token_stake_pool_address]\\n                          \\n\\n\\n# local variables in list \\napp_args = [pool_arg]\\n\\nresult = add_pool(\\n    client=algod_client, \\n    app_args=app_args, \\n    creator_address=creator_address, \\n    creator_private_key_list=creator_private_key_list, \\n    accounts=pool_addresses,\\n    app_id=app_id)\\n\\n\\n\\n# print logs\\nprint_logs(result)\\n\\n\\n# read global state of application\\nprint( \"Global state:\" )\\nglobal_state = read_global_state(algod_client, creator_address, app_id)\\npprint.pprint(global_state)\\n\\nprint()\\n'"
      ]
     },
     "execution_count": 25,
     "metadata": {},
     "output_type": "execute_result"
    }
   ],
   "source": [
    "'''\n",
    "# DO NOT CHANGE\n",
    "pool_arg = \"add_pool\".encode()   \n",
    "\n",
    "# DO CHANGE\n",
    "pool_addresses = [lender_usdc_pool_address, payback_pool_address, token_reserve_pool_address, token_active_pool_address]#, token_stake_pool_address]\n",
    "                          \n",
    "\n",
    "\n",
    "# local variables in list \n",
    "app_args = [pool_arg]\n",
    "\n",
    "result = add_pool(\n",
    "    client=algod_client, \n",
    "    app_args=app_args, \n",
    "    creator_address=creator_address, \n",
    "    creator_private_key_list=creator_private_key_list, \n",
    "    accounts=pool_addresses,\n",
    "    app_id=app_id)\n",
    "\n",
    "\n",
    "\n",
    "# print logs\n",
    "print_logs(result)\n",
    "\n",
    "\n",
    "# read global state of application\n",
    "print( \"Global state:\" )\n",
    "global_state = read_global_state(algod_client, creator_address, app_id)\n",
    "pprint.pprint(global_state)\n",
    "\n",
    "print()\n",
    "'''"
   ]
  },
  {
   "cell_type": "code",
   "execution_count": null,
   "metadata": {},
   "outputs": [],
   "source": [
    "'''\n",
    "# read local state of application from user account\n",
    "print( \"Local state for account: \", lender_usdc_pool_address )\n",
    "local_state = read_local_state(algod_client, lender_usdc_pool_address, app_id)\n",
    "pprint.pprint(local_state)\n",
    "\n",
    "\n",
    "print( \"Local state for account: \", payback_pool_address )\n",
    "local_state = read_local_state(algod_client, payback_pool_address, app_id)\n",
    "pprint.pprint(local_state)\n",
    "\n",
    "\n",
    "print( \"Local state for account: \", token_active_pool_address )\n",
    "local_state = read_local_state(algod_client, token_active_pool_address, app_id)\n",
    "pprint.pprint(local_state)\n",
    "\n",
    "\n",
    "print( \"Local state for account: \", token_reserve_pool_address )\n",
    "local_state = read_local_state(algod_client, token_reserve_pool_address, app_id)\n",
    "pprint.pprint(local_state)\n",
    "\n",
    "\n",
    "print( \"Local state for account: \", token_stake_pool_address )\n",
    "local_state = read_local_state(algod_client, token_stake_pool_address, app_id)\n",
    "pprint.pprint(local_state)\n",
    "\n",
    "'''"
   ]
  },
  {
   "cell_type": "markdown",
   "metadata": {},
   "source": [
    "# Test User OptIn to Application"
   ]
  },
  {
   "cell_type": "code",
   "execution_count": null,
   "metadata": {},
   "outputs": [],
   "source": [
    "\"\"\"\n",
    "# if account is not opted into the app, opt in\n",
    "if not is_opted_in_app(algod_client, test_user_address, app_id):\n",
    "\n",
    "    # opt into application from user account\n",
    "    result = opt_in_app(algod_client, test_user_private_key, app_id)\n",
    "\n",
    "    # print result confirmation transaction confirmation \n",
    "    print_confirmation(result)\n",
    "\n",
    "    # print logs\n",
    "    print_logs(result)\n",
    "\n",
    "\n",
    "# read global state of application\n",
    "print( \"Global state:\", read_global_state( algod_client, creator_address, app_id) )\n",
    "\n",
    "# read local state of application from user account\n",
    "print( \"Local state:\", read_local_state( algod_client, test_user_address, app_id) )\n",
    "\"\"\""
   ]
  },
  {
   "cell_type": "markdown",
   "metadata": {},
   "source": [
    "# Test User Calling Application"
   ]
  },
  {
   "cell_type": "code",
   "execution_count": null,
   "metadata": {},
   "outputs": [],
   "source": [
    "\"\"\"\n",
    "# only call the application if the user is opted in\n",
    "if is_opted_in_app(algod_client, test_user_address, app_id):\n",
    "\n",
    "    args = [b\"timelock\"]\n",
    "\n",
    "        \n",
    "    result = call_app(algod_client, test_user_private_key, app_id, args)    \n",
    "\n",
    "    # print logs\n",
    "    print_logs(result)\n",
    "\n",
    "\n",
    "    # read local state of application from user account\n",
    "    print( \"Local state:\", read_local_state(algod_client, test_user_address, app_id) )\n",
    "\n",
    "    # read global state of application\n",
    "    print( \"Global state:\", read_global_state(algod_client, creator_address, app_id) )\n",
    "\"\"\""
   ]
  },
  {
   "cell_type": "markdown",
   "metadata": {},
   "source": [
    "# Test User Clear App"
   ]
  },
  {
   "cell_type": "code",
   "execution_count": null,
   "metadata": {},
   "outputs": [],
   "source": [
    "\"\"\"\n",
    "# only clear app local storage is the user is opted in\n",
    "if is_opted_in_app(algod_client, test_user_address, app_id):\n",
    "\n",
    "    result = clear_app(algod_client, test_user_private_key, app_id)\n",
    "\n",
    "\n",
    "    # read local state of application from user account\n",
    "    print( \"Local state:\", read_local_state(algod_client, test_user_address, app_id) )\n",
    "\n",
    "    # read global state of application\n",
    "    print( \"Global state:\", read_global_state(algod_client, creator_address, app_id) )\n",
    "\"\"\""
   ]
  }
 ],
 "metadata": {
  "kernelspec": {
   "display_name": "Python 3",
   "language": "python",
   "name": "python3"
  },
  "language_info": {
   "codemirror_mode": {
    "name": "ipython",
    "version": 3
   },
   "file_extension": ".py",
   "mimetype": "text/x-python",
   "name": "python",
   "nbconvert_exporter": "python",
   "pygments_lexer": "ipython3",
   "version": "3.8.5"
  }
 },
 "nbformat": 4,
 "nbformat_minor": 4
}
