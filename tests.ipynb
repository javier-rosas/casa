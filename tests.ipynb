{
 "cells": [
  {
   "cell_type": "markdown",
   "metadata": {},
   "source": [
    "# Imports"
   ]
  },
  {
   "cell_type": "code",
   "execution_count": null,
   "metadata": {},
   "outputs": [],
   "source": [
    "import json\n",
    "\n",
    "from algosdk.v2client import algod\n",
    "\n",
    "from setup.create_app import create_app\n",
    "from setup.opt_in_app import opt_in_app\n",
    "from setup.call_app import call_app\n",
    "from setup.delete_app import delete_app\n",
    "from setup.update_app import update_app\n",
    "\n",
    "\n",
    "from setup.helper_functions import *\n",
    "\n",
    "from setup.pool_functions.opt_into_asset import opt_into_asset\n",
    "from setup.pool_functions.rekey_to_application import rekey_pool_to_application\n",
    "from setup.pool_functions.create_asset import create_asset\n",
    "\n"
   ]
  },
  {
   "cell_type": "markdown",
   "metadata": {},
   "source": [
    "# Initializing Algod Client"
   ]
  },
  {
   "cell_type": "code",
   "execution_count": null,
   "metadata": {},
   "outputs": [],
   "source": [
    "# user declared algod connection parameters. Node must have EnableDeveloperAPI set to true in its config\n",
    "algod_address = \"http://localhost:4001\"\n",
    "algod_token = \"aaaaaaaaaaaaaaaaaaaaaaaaaaaaaaaaaaaaaaaaaaaaaaaaaaaaaaaaaaaaaaaa\"\n",
    "\n",
    "# initialize an algodClient\n",
    "algod_client = algod.AlgodClient(algod_token, algod_address)"
   ]
  },
  {
   "cell_type": "markdown",
   "metadata": {},
   "source": [
    "# Obtaining data from keys.json"
   ]
  },
  {
   "cell_type": "code",
   "execution_count": null,
   "metadata": {},
   "outputs": [],
   "source": [
    "# open json file with address and mnemonic data\n",
    "f = open('keys.json')\n",
    "data = json.load(f)\n",
    "\n",
    "\n",
    "\n",
    "# Creator address and private key. \n",
    "# This account is a multisig (1/2). \n",
    "# For developement purposes, both private keys are stored in keys.json\n",
    "# This will change in a production environment for security purposes. \n",
    "creator_mnemonic_1 = data['creator_multisig_accounts']['creator_mnemonic_1']\n",
    "creator_private_key_1 = get_private_key_from_mnemonic(creator_mnemonic_1)\n",
    "creator_address = data['creator_multisig_address']\n",
    "\n",
    "\n",
    "# Lender USDC Deposit Pool.\n",
    "# This account is single sig Algorand account.\n",
    "# The private key and address is stored in keys.json for development purposes\n",
    "# This account will be rekeyed to the smart contract\n",
    "lender_usdc_pool_mnemonic = data['lender_usdc_pool_mnemonic']\n",
    "lender_usdc_pool_private_key = get_private_key_from_mnemonic(lender_usdc_pool_mnemonic)\n",
    "lender_usdc_pool_address = data['lender_usdc_pool_address']\n",
    "\n",
    "\n",
    "# Index Token Reserve Pool.\n",
    "# This account is single sig Algorand account.\n",
    "# The private key and address is stored in keys.json for development purposes\n",
    "# This account will be rekeyed to the smart contract\n",
    "token_reserve_pool_mnemonic = data['token_reserve_pool_mnemonic']\n",
    "token_reserve_pool_private_key = get_private_key_from_mnemonic(token_reserve_pool_mnemonic)\n",
    "token_reserve_pool_address = data['token_reserve_pool_address']\n",
    "\n",
    "\n",
    "\n",
    "# Index Token Active Pool.\n",
    "# This account is single sig Algorand account.\n",
    "# The private key and address is stored in keys.json for development purposes\n",
    "# This account will be rekeyed to the smart contract\n",
    "token_active_pool_mnemonic = data['token_active_pool_mnemonic']\n",
    "token_active_pool_private_key = get_private_key_from_mnemonic(token_active_pool_mnemonic)\n",
    "token_active_pool_address = data['token_active_pool_address']\n",
    "\n",
    "\n",
    "\n",
    "# Index Token Stake Pool.\n",
    "# This account is single sig Algorand account.\n",
    "# The private key and address is stored in keys.json for development purposes\n",
    "# This account will be rekeyed to the smart contract\n",
    "token_stake_pool_mnemonic = data['token_stake_pool_mnemonic']\n",
    "token_stake_pool_private_key = get_private_key_from_mnemonic(token_stake_pool_mnemonic)\n",
    "token_stake_pool_address = data['token_stake_pool_address']\n",
    "\n",
    "\n",
    "\n",
    "# Payback Pool.\n",
    "# This account is single sig Algorand account.\n",
    "# The private key and address is stored in keys.json for development purposes\n",
    "# This account will be rekeyed to the smart contract\n",
    "payback_pool_mnemonic = data['payback_pool_mnemonic']\n",
    "payback_pool_private_key = get_private_key_from_mnemonic(payback_pool_mnemonic)\n",
    "payback_pool_address = data['payback_pool_address']\n",
    "\n",
    "\n",
    "\n",
    "\n",
    "\n",
    "# User private key. \n",
    "# In this case it is a singlesig, but it could also be a multisig if the user wants to make it one. \n",
    "# For developement purposes, this private key is stored in keys.json\n",
    "user_mnemonic = data['user_mnemonic']\n",
    "user_private_key = get_private_key_from_mnemonic(user_mnemonic)\n",
    "user_address = data['user_mnemonic']\n",
    "\n",
    "# USDC ID\n",
    "usdc_id = data['usdc_id']\n",
    "index_token_id = data['index_token_id']\n",
    "\n",
    "app_id = data['app_id']\n",
    "application_address = data['app_address']\n",
    "\n",
    "\n",
    "# Closing json file\n",
    "f.close()"
   ]
  },
  {
   "cell_type": "markdown",
   "metadata": {},
   "source": [
    "# Creating Application"
   ]
  },
  {
   "cell_type": "code",
   "execution_count": null,
   "metadata": {},
   "outputs": [],
   "source": [
    "'''\n",
    "app_id, application_address = create_app(algod_client, creator_address, creator_private_key_1)\n",
    "print(\"Created new app-id:\", app_id)\n",
    "print(\"Application address:\", application_address)\n",
    "\n",
    "# read global state of application\n",
    "print( \"Global state:\", read_global_state(algod_client, creator_address, app_id) )\n",
    "\n",
    "# read local state of application from user account\n",
    "print( \"Local state:\", read_local_state(algod_client, creator_address, app_id) )\n",
    "'''\n",
    "\n"
   ]
  },
  {
   "cell_type": "markdown",
   "metadata": {},
   "source": [
    "# Update Application"
   ]
  },
  {
   "cell_type": "code",
   "execution_count": null,
   "metadata": {},
   "outputs": [],
   "source": [
    "update_app(algod_client, creator_address, creator_private_key_1, app_id)\n",
    "\n",
    "# read global state of application\n",
    "print( \"Global state:\", read_global_state(algod_client, creator_address, app_id) )\n",
    "\n",
    "# read local state of application from user account\n",
    "print( \"Local state:\", read_local_state(algod_client, creator_address, app_id) )"
   ]
  },
  {
   "cell_type": "markdown",
   "metadata": {},
   "source": [
    "##### --------------------------------------------------------------------------------------------\n",
    "# **lender_usdc_pool**: 3 actions\n",
    "\n",
    "##### 1) ----------> Opt pool into smart contract \n",
    "##### 2) ----------> Opt pool into USDC \n",
    "##### 3) ----------> Rekey pool to smart contract\n",
    "\n",
    "##### --------------------------------------------------------------------------------------------\n"
   ]
  },
  {
   "cell_type": "markdown",
   "metadata": {},
   "source": [
    "##### Action 1: Opt Lender USDC Pool into Smart Contract"
   ]
  },
  {
   "cell_type": "code",
   "execution_count": null,
   "metadata": {},
   "outputs": [],
   "source": [
    "# if pool account is not opted into the app, opt into it\n",
    "if not is_opted_in_app(algod_client, lender_usdc_pool_address, app_id):\n",
    "\n",
    "    # opt into application from pool account\n",
    "    result = opt_in_app(algod_client, lender_usdc_pool_private_key, app_id)\n",
    "\n",
    "    # print result confirmation transaction confirmation \n",
    "    print_confirmation(result)\n",
    "    "
   ]
  },
  {
   "cell_type": "markdown",
   "metadata": {},
   "source": [
    "##### Action 2: Opt Lender USDC Pool into USDC"
   ]
  },
  {
   "cell_type": "code",
   "execution_count": null,
   "metadata": {},
   "outputs": [],
   "source": [
    "# if pool is not opted into the asset, opt into it\n",
    "if not is_opted_in_asset(algod_client, usdc_id, lender_usdc_pool_address):\n",
    "\n",
    "    print(\"Account is not opted in to USDC.. opting in now...\")\n",
    "\n",
    "    # opt into USDC from pool account\n",
    "    result = opt_into_asset(algod_client, lender_usdc_pool_address, lender_usdc_pool_private_key, usdc_id)\n",
    "\n",
    "    # print result confirmation transaction confirmation \n",
    "    print_confirmation(result)\n",
    "\n",
    "# print pool asset holdings\n",
    "print_asset_holding(algod_client, lender_usdc_pool_address, usdc_id)\n"
   ]
  },
  {
   "cell_type": "markdown",
   "metadata": {},
   "source": [
    "##### Action 3: Rekey Lender USDC Pool to Smart Contract"
   ]
  },
  {
   "cell_type": "code",
   "execution_count": null,
   "metadata": {},
   "outputs": [],
   "source": [
    "if not is_application_address(algod_client, application_address, lender_usdc_pool_address): \n",
    "    \n",
    "    result = rekey_pool_to_application(algod_client, application_address, lender_usdc_pool_address, lender_usdc_pool_private_key)\n",
    "\n",
    "    # print result confirmation transaction confirmation \n",
    "    print_confirmation(result)\n"
   ]
  },
  {
   "cell_type": "markdown",
   "metadata": {},
   "source": [
    "##### --------------------------------------------------------------------------------------------\n",
    "# **token_reserve_pool**: 3 actions\n",
    "\n",
    "##### 1) ----------> Opt pool into smart contract \n",
    "##### 2) ----------> Create index_token (infinite amount)\n",
    "##### 3) ----------> Rekey pool to smart contract\n",
    "\n",
    "##### --------------------------------------------------------------------------------------------"
   ]
  },
  {
   "cell_type": "markdown",
   "metadata": {},
   "source": [
    "##### Action 1: Opt reserve pool into Smart Contract"
   ]
  },
  {
   "cell_type": "code",
   "execution_count": null,
   "metadata": {},
   "outputs": [],
   "source": [
    "# if pool account is not opted into the app, opt into it\n",
    "if not is_opted_in_app(algod_client, token_reserve_pool_address, app_id):\n",
    "\n",
    "    # opt into application from pool account\n",
    "    result = opt_in_app(algod_client, token_reserve_pool_private_key, app_id)\n",
    "\n",
    "    # print result confirmation transaction confirmation \n",
    "    print_confirmation(result)\n",
    "\n"
   ]
  },
  {
   "cell_type": "markdown",
   "metadata": {},
   "source": [
    "##### Action 2: Create index token and store in reserve address"
   ]
  },
  {
   "cell_type": "code",
   "execution_count": null,
   "metadata": {},
   "outputs": [],
   "source": [
    "if not is_opted_in_asset(algod_client, index_token_id, token_reserve_pool_address):\n",
    "    \n",
    "    create_asset(algod_client, creator_address, token_reserve_pool_address, token_reserve_pool_private_key)"
   ]
  },
  {
   "cell_type": "markdown",
   "metadata": {},
   "source": [
    "##### Action 3: Rekey reserve token pool to smart contract"
   ]
  },
  {
   "cell_type": "code",
   "execution_count": null,
   "metadata": {},
   "outputs": [],
   "source": [
    "if not is_application_address(algod_client, application_address, token_reserve_pool_address): \n",
    "    \n",
    "    result = rekey_pool_to_application(algod_client, application_address, token_reserve_pool_address, token_reserve_pool_private_key)\n",
    "\n",
    "    # print result confirmation transaction confirmation \n",
    "    print_confirmation(result)"
   ]
  },
  {
   "cell_type": "markdown",
   "metadata": {},
   "source": [
    "##### --------------------------------------------------------------------------------------------\n",
    "# **token_active_pool**: 3 actions\n",
    "\n",
    "##### 1) ----------> Opt pool into smart contract \n",
    "##### 2) ----------> Opt pool into index_token\n",
    "##### 3) ----------> Rekey pool to smart contract\n",
    "\n",
    "##### --------------------------------------------------------------------------------------------"
   ]
  },
  {
   "cell_type": "markdown",
   "metadata": {},
   "source": [
    "##### Action 1: Opt active pool into Smart Contract"
   ]
  },
  {
   "cell_type": "code",
   "execution_count": null,
   "metadata": {},
   "outputs": [],
   "source": [
    "# if pool account is not opted into the app, opt into it\n",
    "if not is_opted_in_app(algod_client, token_active_pool_address, app_id):\n",
    "\n",
    "    # opt into application from pool account\n",
    "    result = opt_in_app(algod_client, token_active_pool_private_key, app_id)\n",
    "\n",
    "    # print result confirmation transaction confirmation \n",
    "    print_confirmation(result)"
   ]
  },
  {
   "cell_type": "markdown",
   "metadata": {},
   "source": [
    "##### Action 2: Opt active pool into index_token (LCASA)"
   ]
  },
  {
   "cell_type": "code",
   "execution_count": null,
   "metadata": {},
   "outputs": [],
   "source": [
    "# if pool is not opted into the asset, opt into it\n",
    "if not is_opted_in_asset(algod_client, index_token_id, token_active_pool_address):\n",
    "\n",
    "    print(\"Account is not opted in to index token (LCASA).. opting in now...\")\n",
    "\n",
    "    # opt into USDC from pool account\n",
    "    result = opt_into_asset(algod_client, token_active_pool_address, token_active_pool_private_key, index_token_id)\n",
    "\n",
    "    # print result confirmation transaction confirmation \n",
    "    print_confirmation(result)\n",
    "\n",
    "# print pool asset holdings\n",
    "print_asset_holding(algod_client, token_active_pool_address, index_token_id)"
   ]
  },
  {
   "cell_type": "markdown",
   "metadata": {},
   "source": [
    "##### Action 3: Rekey active token pool to smart contract"
   ]
  },
  {
   "cell_type": "code",
   "execution_count": null,
   "metadata": {},
   "outputs": [],
   "source": [
    "if not is_application_address(algod_client, application_address, token_active_pool_address): \n",
    "    \n",
    "    result = rekey_pool_to_application(algod_client, application_address, token_active_pool_address, token_active_pool_private_key)\n",
    "\n",
    "    # print result confirmation transaction confirmation \n",
    "    print_confirmation(result)"
   ]
  },
  {
   "cell_type": "markdown",
   "metadata": {},
   "source": [
    "##### --------------------------------------------------------------------------------------------\n",
    "# **token_stake_pool**: 3 actions\n",
    "\n",
    "##### 1) ----------> Opt pool into smart contract \n",
    "##### 2) ----------> Opt pool into index_token\n",
    "##### 3) ----------> Rekey pool to smart contract\n",
    "\n",
    "##### --------------------------------------------------------------------------------------------"
   ]
  },
  {
   "cell_type": "markdown",
   "metadata": {},
   "source": [
    "##### Action 1: Opt stake pool into Smart Contract"
   ]
  },
  {
   "cell_type": "code",
   "execution_count": null,
   "metadata": {},
   "outputs": [],
   "source": [
    "# if pool account is not opted into the app, opt into it\n",
    "if not is_opted_in_app(algod_client, token_stake_pool_address, app_id):\n",
    "\n",
    "    # opt into application from pool account\n",
    "    result = opt_in_app(algod_client, token_stake_pool_private_key, app_id)\n",
    "\n",
    "    # print result confirmation transaction confirmation \n",
    "    print_confirmation(result)\n"
   ]
  },
  {
   "cell_type": "markdown",
   "metadata": {},
   "source": [
    "##### Action 2: Opt stake pool into index_token (LCASA)"
   ]
  },
  {
   "cell_type": "code",
   "execution_count": null,
   "metadata": {},
   "outputs": [],
   "source": [
    "# if pool is not opted into the asset, opt into it\n",
    "if not is_opted_in_asset(algod_client, index_token_id, token_stake_pool_address):\n",
    "\n",
    "    print(\"Account is not opted in to index token (LCASA).. opting in now...\")\n",
    "\n",
    "    # opt into USDC from pool account\n",
    "    result = opt_into_asset(algod_client, token_stake_pool_address, token_stake_pool_private_key, index_token_id)\n",
    "\n",
    "    # print result confirmation transaction confirmation \n",
    "    print_confirmation(result)\n",
    "\n",
    "# print pool asset holdings\n",
    "print_asset_holding(algod_client, token_stake_pool_address, index_token_id)"
   ]
  },
  {
   "cell_type": "markdown",
   "metadata": {},
   "source": [
    "##### Action 3: Rekey stake token pool to smart contract"
   ]
  },
  {
   "cell_type": "code",
   "execution_count": null,
   "metadata": {},
   "outputs": [],
   "source": [
    "if not is_application_address(algod_client, application_address, token_stake_pool_address): \n",
    "    \n",
    "    result = rekey_pool_to_application(algod_client, application_address, token_stake_pool_address, token_stake_pool_private_key)\n",
    "\n",
    "    # print result confirmation transaction confirmation \n",
    "    print_confirmation(result)"
   ]
  },
  {
   "cell_type": "markdown",
   "metadata": {},
   "source": [
    "##### --------------------------------------------------------------------------------------------\n",
    "# **payback_pool**: 3 actions\n",
    "\n",
    "##### 1) ----------> Opt pool into smart contract \n",
    "##### 2) ----------> Opt pool into USDC\n",
    "##### 3) ----------> Rekey pool to smart contract\n",
    "\n",
    "##### --------------------------------------------------------------------------------------------"
   ]
  },
  {
   "cell_type": "markdown",
   "metadata": {},
   "source": [
    "##### Action 1: Opt Payback Pool into Smart Contract"
   ]
  },
  {
   "cell_type": "code",
   "execution_count": null,
   "metadata": {},
   "outputs": [],
   "source": [
    "# if pool account is not opted into the app, opt into it\n",
    "if not is_opted_in_app(algod_client, payback_pool_address, app_id):\n",
    "\n",
    "    # opt into application from pool account\n",
    "    result = opt_in_app(algod_client, payback_pool_private_key, app_id)\n",
    "\n",
    "    # print result confirmation transaction confirmation \n",
    "    print_confirmation(result)"
   ]
  },
  {
   "cell_type": "markdown",
   "metadata": {},
   "source": [
    "##### Action 2: Opt Payback Pool into USDC"
   ]
  },
  {
   "cell_type": "code",
   "execution_count": null,
   "metadata": {},
   "outputs": [],
   "source": [
    "# if pool is not opted into the asset, opt into it\n",
    "if not is_opted_in_asset(algod_client, usdc_id, payback_pool_address):\n",
    "\n",
    "    print(\"Account is not opted in to USDC.. opting in now...\")\n",
    "\n",
    "    # opt into USDC from pool account\n",
    "    result = opt_into_asset(algod_client, payback_pool_address, payback_pool_private_key, usdc_id)\n",
    "\n",
    "    # print result confirmation transaction confirmation \n",
    "    print_confirmation(result)\n",
    "\n",
    "# print pool asset holdings\n",
    "print_asset_holding(algod_client, payback_pool_address, usdc_id)"
   ]
  },
  {
   "cell_type": "markdown",
   "metadata": {},
   "source": [
    "##### Action 3: Rekey Payback Pool to Smart Contract"
   ]
  },
  {
   "cell_type": "code",
   "execution_count": null,
   "metadata": {},
   "outputs": [],
   "source": [
    "if not is_application_address(algod_client, application_address, payback_pool_address): \n",
    "    \n",
    "    result = rekey_pool_to_application(algod_client, application_address, payback_pool_address, payback_pool_private_key)\n",
    "\n",
    "    # print result confirmation transaction confirmation \n",
    "    print_confirmation(result)"
   ]
  },
  {
   "cell_type": "markdown",
   "metadata": {},
   "source": [
    "# User OptIn to Application"
   ]
  },
  {
   "cell_type": "code",
   "execution_count": null,
   "metadata": {},
   "outputs": [],
   "source": [
    "# if account is not opted into the app, opt in\n",
    "if not is_opted_in_app(algod_client, user_address, app_id):\n",
    "\n",
    "    # opt into application from user account\n",
    "    result = opt_in_app(algod_client, user_private_key, app_id)\n",
    "\n",
    "    # print result confirmation transaction confirmation \n",
    "    print_confirmation(result)\n",
    "\n",
    "    # print logs\n",
    "    print_logs(result)\n",
    "\n",
    "\n",
    "# read global state of application\n",
    "print( \"Global state:\", read_global_state( algod_client, creator_address, app_id) )\n",
    "\n",
    "# read local state of application from user account\n",
    "print( \"Local state:\", read_local_state( algod_client, user_address, app_id) )"
   ]
  },
  {
   "cell_type": "markdown",
   "metadata": {},
   "source": [
    "# Calling Application"
   ]
  },
  {
   "cell_type": "code",
   "execution_count": null,
   "metadata": {},
   "outputs": [],
   "source": [
    "args = [b\"vote\", b\"choiceA\"]\n",
    "\n",
    "if not is_opted_in_asset: \n",
    "    # opt in to asset function \n",
    "    pass\n",
    "    \n",
    "result = call_app(algod_client, user_private_key, app_id, args)    \n",
    "\n",
    "\n",
    "# read local state of application from user account\n",
    "print( \"Local state:\", read_local_state(algod_client, user_address, app_id) )\n",
    "\n",
    "# read global state of application\n",
    "print( \"Global state:\", read_global_state(algod_client, creator_address, app_id) )"
   ]
  },
  {
   "cell_type": "code",
   "execution_count": null,
   "metadata": {},
   "outputs": [],
   "source": []
  },
  {
   "cell_type": "code",
   "execution_count": null,
   "metadata": {},
   "outputs": [],
   "source": []
  }
 ],
 "metadata": {
  "kernelspec": {
   "display_name": "Python 3",
   "language": "python",
   "name": "python3"
  },
  "language_info": {
   "codemirror_mode": {
    "name": "ipython",
    "version": 3
   },
   "file_extension": ".py",
   "mimetype": "text/x-python",
   "name": "python",
   "nbconvert_exporter": "python",
   "pygments_lexer": "ipython3",
   "version": "3.8.5"
  }
 },
 "nbformat": 4,
 "nbformat_minor": 4
}
